{
 "cells": [
  {
   "cell_type": "code",
   "execution_count": 1,
   "id": "14dbbae1",
   "metadata": {},
   "outputs": [],
   "source": [
    "import pandas as pd\n",
    "import numpy as np\n",
    "import matplotlib.pyplot as plt\n",
    "import seaborn as sns\n",
    "import warnings\n",
    "warnings.filterwarnings('ignore')\n",
    "from wordcloud import WordCloud\n",
    "from wordcloud import STOPWORDS"
   ]
  },
  {
   "cell_type": "code",
   "execution_count": 2,
   "id": "2091ab9e",
   "metadata": {},
   "outputs": [],
   "source": [
    "import nltk\n",
    "import regex as re\n",
    "#nltk.download('stopwords')\n",
    "from nltk.corpus import stopwords\n",
    "from nltk.stem.snowball import SnowballStemmer"
   ]
  },
  {
   "cell_type": "code",
   "execution_count": 3,
   "id": "efefde05",
   "metadata": {},
   "outputs": [
    {
     "name": "stdout",
     "output_type": "stream",
     "text": [
      "(212098, 58)\n"
     ]
    },
    {
     "data": {
      "text/html": [
       "<div>\n",
       "<style scoped>\n",
       "    .dataframe tbody tr th:only-of-type {\n",
       "        vertical-align: middle;\n",
       "    }\n",
       "\n",
       "    .dataframe tbody tr th {\n",
       "        vertical-align: top;\n",
       "    }\n",
       "\n",
       "    .dataframe thead th {\n",
       "        text-align: right;\n",
       "    }\n",
       "</style>\n",
       "<table border=\"1\" class=\"dataframe\">\n",
       "  <thead>\n",
       "    <tr style=\"text-align: right;\">\n",
       "      <th></th>\n",
       "      <th>uniqueID</th>\n",
       "      <th>drugName</th>\n",
       "      <th>condition</th>\n",
       "      <th>review</th>\n",
       "      <th>rating</th>\n",
       "      <th>date</th>\n",
       "      <th>usefulCount</th>\n",
       "      <th>review_sentiment</th>\n",
       "      <th>cleaned_review</th>\n",
       "      <th>sentiment_score</th>\n",
       "      <th>...</th>\n",
       "      <th>10</th>\n",
       "      <th>11</th>\n",
       "      <th>12</th>\n",
       "      <th>13</th>\n",
       "      <th>14</th>\n",
       "      <th>15</th>\n",
       "      <th>16</th>\n",
       "      <th>17</th>\n",
       "      <th>18</th>\n",
       "      <th>19</th>\n",
       "    </tr>\n",
       "  </thead>\n",
       "  <tbody>\n",
       "    <tr>\n",
       "      <th>0</th>\n",
       "      <td>206461</td>\n",
       "      <td>valsartan</td>\n",
       "      <td>left ventricular dysfunction</td>\n",
       "      <td>\"It has no side effect, I take it in combinati...</td>\n",
       "      <td>9</td>\n",
       "      <td>2012-05-20</td>\n",
       "      <td>27</td>\n",
       "      <td>1</td>\n",
       "      <td>no side effect take combin bystol mg fish oil</td>\n",
       "      <td>-0.2960</td>\n",
       "      <td>...</td>\n",
       "      <td>0.007515</td>\n",
       "      <td>0.007186</td>\n",
       "      <td>0.017940</td>\n",
       "      <td>0.008827</td>\n",
       "      <td>0.009740</td>\n",
       "      <td>0.010562</td>\n",
       "      <td>0.006819</td>\n",
       "      <td>0.429381</td>\n",
       "      <td>0.013676</td>\n",
       "      <td>0.077992</td>\n",
       "    </tr>\n",
       "    <tr>\n",
       "      <th>1</th>\n",
       "      <td>95260</td>\n",
       "      <td>guanfacine</td>\n",
       "      <td>adhd</td>\n",
       "      <td>\"My son is halfway through his fourth week of ...</td>\n",
       "      <td>8</td>\n",
       "      <td>2010-04-27</td>\n",
       "      <td>192</td>\n",
       "      <td>1</td>\n",
       "      <td>son halfway fourth week intuniv becam concern ...</td>\n",
       "      <td>0.8603</td>\n",
       "      <td>...</td>\n",
       "      <td>0.003576</td>\n",
       "      <td>0.003419</td>\n",
       "      <td>0.008536</td>\n",
       "      <td>0.004200</td>\n",
       "      <td>0.004634</td>\n",
       "      <td>0.005026</td>\n",
       "      <td>0.003245</td>\n",
       "      <td>0.494278</td>\n",
       "      <td>0.006508</td>\n",
       "      <td>0.074561</td>\n",
       "    </tr>\n",
       "    <tr>\n",
       "      <th>2</th>\n",
       "      <td>92703</td>\n",
       "      <td>lybrel</td>\n",
       "      <td>birth control</td>\n",
       "      <td>\"I used to take another oral contraceptive, wh...</td>\n",
       "      <td>5</td>\n",
       "      <td>2009-12-14</td>\n",
       "      <td>17</td>\n",
       "      <td>0</td>\n",
       "      <td>use take anoth oral contracept pill cycl happi...</td>\n",
       "      <td>0.7962</td>\n",
       "      <td>...</td>\n",
       "      <td>0.022085</td>\n",
       "      <td>0.003387</td>\n",
       "      <td>0.008456</td>\n",
       "      <td>0.004161</td>\n",
       "      <td>0.115890</td>\n",
       "      <td>0.004978</td>\n",
       "      <td>0.003214</td>\n",
       "      <td>0.363426</td>\n",
       "      <td>0.006446</td>\n",
       "      <td>0.055310</td>\n",
       "    </tr>\n",
       "  </tbody>\n",
       "</table>\n",
       "<p>3 rows × 58 columns</p>\n",
       "</div>"
      ],
      "text/plain": [
       "   uniqueID    drugName                     condition  \\\n",
       "0    206461   valsartan  left ventricular dysfunction   \n",
       "1     95260  guanfacine                          adhd   \n",
       "2     92703      lybrel                 birth control   \n",
       "\n",
       "                                              review  rating        date  \\\n",
       "0  \"It has no side effect, I take it in combinati...       9  2012-05-20   \n",
       "1  \"My son is halfway through his fourth week of ...       8  2010-04-27   \n",
       "2  \"I used to take another oral contraceptive, wh...       5  2009-12-14   \n",
       "\n",
       "   usefulCount  review_sentiment  \\\n",
       "0           27                 1   \n",
       "1          192                 1   \n",
       "2           17                 0   \n",
       "\n",
       "                                      cleaned_review  sentiment_score  ...  \\\n",
       "0     no side effect take combin bystol mg fish oil           -0.2960  ...   \n",
       "1  son halfway fourth week intuniv becam concern ...           0.8603  ...   \n",
       "2  use take anoth oral contracept pill cycl happi...           0.7962  ...   \n",
       "\n",
       "         10        11        12        13        14        15        16  \\\n",
       "0  0.007515  0.007186  0.017940  0.008827  0.009740  0.010562  0.006819   \n",
       "1  0.003576  0.003419  0.008536  0.004200  0.004634  0.005026  0.003245   \n",
       "2  0.022085  0.003387  0.008456  0.004161  0.115890  0.004978  0.003214   \n",
       "\n",
       "         17        18        19  \n",
       "0  0.429381  0.013676  0.077992  \n",
       "1  0.494278  0.006508  0.074561  \n",
       "2  0.363426  0.006446  0.055310  \n",
       "\n",
       "[3 rows x 58 columns]"
      ]
     },
     "execution_count": 3,
     "metadata": {},
     "output_type": "execute_result"
    }
   ],
   "source": [
    "data = pd.read_csv('final_new_data_processed.csv')\n",
    "print(data.shape)\n",
    "data.head(3)"
   ]
  },
  {
   "cell_type": "markdown",
   "id": "bad97e0a",
   "metadata": {},
   "source": [
    "### Splitting the data to Train and Test"
   ]
  },
  {
   "cell_type": "code",
   "execution_count": 4,
   "id": "5a1fbe25",
   "metadata": {},
   "outputs": [
    {
     "name": "stdout",
     "output_type": "stream",
     "text": [
      "(212098, 53)\n"
     ]
    },
    {
     "data": {
      "text/html": [
       "<div>\n",
       "<style scoped>\n",
       "    .dataframe tbody tr th:only-of-type {\n",
       "        vertical-align: middle;\n",
       "    }\n",
       "\n",
       "    .dataframe tbody tr th {\n",
       "        vertical-align: top;\n",
       "    }\n",
       "\n",
       "    .dataframe thead th {\n",
       "        text-align: right;\n",
       "    }\n",
       "</style>\n",
       "<table border=\"1\" class=\"dataframe\">\n",
       "  <thead>\n",
       "    <tr style=\"text-align: right;\">\n",
       "      <th></th>\n",
       "      <th>drugName</th>\n",
       "      <th>condition</th>\n",
       "      <th>usefulCount</th>\n",
       "      <th>cleaned_review</th>\n",
       "      <th>sentiment_score</th>\n",
       "      <th>sentiment_score_clean</th>\n",
       "      <th>year</th>\n",
       "      <th>word_count</th>\n",
       "      <th>unique_word_count</th>\n",
       "      <th>char_length</th>\n",
       "      <th>...</th>\n",
       "      <th>10</th>\n",
       "      <th>11</th>\n",
       "      <th>12</th>\n",
       "      <th>13</th>\n",
       "      <th>14</th>\n",
       "      <th>15</th>\n",
       "      <th>16</th>\n",
       "      <th>17</th>\n",
       "      <th>18</th>\n",
       "      <th>19</th>\n",
       "    </tr>\n",
       "  </thead>\n",
       "  <tbody>\n",
       "    <tr>\n",
       "      <th>0</th>\n",
       "      <td>valsartan</td>\n",
       "      <td>left ventricular dysfunction</td>\n",
       "      <td>27</td>\n",
       "      <td>no side effect take combin bystol mg fish oil</td>\n",
       "      <td>-0.2960</td>\n",
       "      <td>-0.2960</td>\n",
       "      <td>2012</td>\n",
       "      <td>9</td>\n",
       "      <td>9</td>\n",
       "      <td>46</td>\n",
       "      <td>...</td>\n",
       "      <td>0.007515</td>\n",
       "      <td>0.007186</td>\n",
       "      <td>0.017940</td>\n",
       "      <td>0.008827</td>\n",
       "      <td>0.009740</td>\n",
       "      <td>0.010562</td>\n",
       "      <td>0.006819</td>\n",
       "      <td>0.429381</td>\n",
       "      <td>0.013676</td>\n",
       "      <td>0.077992</td>\n",
       "    </tr>\n",
       "    <tr>\n",
       "      <th>1</th>\n",
       "      <td>guanfacine</td>\n",
       "      <td>adhd</td>\n",
       "      <td>192</td>\n",
       "      <td>son halfway fourth week intuniv becam concern ...</td>\n",
       "      <td>0.8603</td>\n",
       "      <td>0.6929</td>\n",
       "      <td>2010</td>\n",
       "      <td>65</td>\n",
       "      <td>54</td>\n",
       "      <td>372</td>\n",
       "      <td>...</td>\n",
       "      <td>0.003576</td>\n",
       "      <td>0.003419</td>\n",
       "      <td>0.008536</td>\n",
       "      <td>0.004200</td>\n",
       "      <td>0.004634</td>\n",
       "      <td>0.005026</td>\n",
       "      <td>0.003245</td>\n",
       "      <td>0.494278</td>\n",
       "      <td>0.006508</td>\n",
       "      <td>0.074561</td>\n",
       "    </tr>\n",
       "    <tr>\n",
       "      <th>2</th>\n",
       "      <td>lybrel</td>\n",
       "      <td>birth control</td>\n",
       "      <td>17</td>\n",
       "      <td>use take anoth oral contracept pill cycl happi...</td>\n",
       "      <td>0.7962</td>\n",
       "      <td>0.2732</td>\n",
       "      <td>2009</td>\n",
       "      <td>70</td>\n",
       "      <td>49</td>\n",
       "      <td>403</td>\n",
       "      <td>...</td>\n",
       "      <td>0.022085</td>\n",
       "      <td>0.003387</td>\n",
       "      <td>0.008456</td>\n",
       "      <td>0.004161</td>\n",
       "      <td>0.115890</td>\n",
       "      <td>0.004978</td>\n",
       "      <td>0.003214</td>\n",
       "      <td>0.363426</td>\n",
       "      <td>0.006446</td>\n",
       "      <td>0.055310</td>\n",
       "    </tr>\n",
       "  </tbody>\n",
       "</table>\n",
       "<p>3 rows × 53 columns</p>\n",
       "</div>"
      ],
      "text/plain": [
       "     drugName                     condition  usefulCount  \\\n",
       "0   valsartan  left ventricular dysfunction           27   \n",
       "1  guanfacine                          adhd          192   \n",
       "2      lybrel                 birth control           17   \n",
       "\n",
       "                                      cleaned_review  sentiment_score  \\\n",
       "0     no side effect take combin bystol mg fish oil           -0.2960   \n",
       "1  son halfway fourth week intuniv becam concern ...           0.8603   \n",
       "2  use take anoth oral contracept pill cycl happi...           0.7962   \n",
       "\n",
       "   sentiment_score_clean  year  word_count  unique_word_count  char_length  \\\n",
       "0                -0.2960  2012           9                  9           46   \n",
       "1                 0.6929  2010          65                 54          372   \n",
       "2                 0.2732  2009          70                 49          403   \n",
       "\n",
       "   ...        10        11        12        13        14        15        16  \\\n",
       "0  ...  0.007515  0.007186  0.017940  0.008827  0.009740  0.010562  0.006819   \n",
       "1  ...  0.003576  0.003419  0.008536  0.004200  0.004634  0.005026  0.003245   \n",
       "2  ...  0.022085  0.003387  0.008456  0.004161  0.115890  0.004978  0.003214   \n",
       "\n",
       "         17        18        19  \n",
       "0  0.429381  0.013676  0.077992  \n",
       "1  0.494278  0.006508  0.074561  \n",
       "2  0.363426  0.006446  0.055310  \n",
       "\n",
       "[3 rows x 53 columns]"
      ]
     },
     "execution_count": 4,
     "metadata": {},
     "output_type": "execute_result"
    }
   ],
   "source": [
    "X = data.drop(['uniqueID','review','rating','date','review_sentiment'],axis=1)\n",
    "y = data['review_sentiment'].values\n",
    "print(X.shape)\n",
    "X.head(3)"
   ]
  },
  {
   "cell_type": "code",
   "execution_count": 5,
   "id": "b0268eb0",
   "metadata": {},
   "outputs": [],
   "source": [
    "from sklearn.model_selection import train_test_split\n",
    "\n",
    "X_train, X_test, y_train, y_test = train_test_split(X,y,stratify=y,test_size=0.30,random_state=42)\n",
    "\n",
    "X_train, X_cv, y_train, y_cv = train_test_split(X_train, y_train,stratify=y_train,test_size=0.30,random_state=42)"
   ]
  },
  {
   "cell_type": "code",
   "execution_count": 6,
   "id": "3d1dc289",
   "metadata": {},
   "outputs": [
    {
     "name": "stdout",
     "output_type": "stream",
     "text": [
      "Train data size is: (103927, 53)\n",
      "Cross Validation data size is: (44541, 53)\n",
      "Test data size is: (63630, 53)\n"
     ]
    }
   ],
   "source": [
    "print('Train data size is:',X_train.shape)\n",
    "print('Cross Validation data size is:',X_cv.shape)\n",
    "print('Test data size is:',X_test.shape)"
   ]
  },
  {
   "cell_type": "markdown",
   "id": "3ce14622",
   "metadata": {},
   "source": [
    "### Encoding Categorical,Text.Numerical features"
   ]
  },
  {
   "cell_type": "markdown",
   "id": "6c65c602",
   "metadata": {},
   "source": [
    "Label Encoding the condition and Year feature "
   ]
  },
  {
   "cell_type": "code",
   "execution_count": 7,
   "id": "94129f1b",
   "metadata": {},
   "outputs": [
    {
     "name": "stdout",
     "output_type": "stream",
     "text": [
      "After Encoding\n",
      "Train data shape (103927, 1)\n",
      "Test data shape (63630, 1)\n",
      "CV data shape (44541, 1)\n"
     ]
    }
   ],
   "source": [
    "from sklearn.preprocessing import LabelEncoder\n",
    "\n",
    "lab_enc_cond = LabelEncoder()\n",
    "\n",
    "lab_enc_cond.fit(X['condition'].values)\n",
    "\n",
    "X_train_condition = lab_enc_cond.transform(X_train['condition'].values).reshape(-1,1)\n",
    "X_test_condition = lab_enc_cond.transform(X_test['condition'].values).reshape(-1,1)\n",
    "X_cv_condition = lab_enc_cond.transform(X_cv['condition'].values).reshape(-1,1)\n",
    "\n",
    "print('After Encoding')\n",
    "print('Train data shape',X_train_condition.shape)\n",
    "print('Test data shape',X_test_condition.shape)\n",
    "print('CV data shape',X_cv_condition.shape)"
   ]
  },
  {
   "cell_type": "code",
   "execution_count": 9,
   "id": "670638f7",
   "metadata": {},
   "outputs": [
    {
     "name": "stdout",
     "output_type": "stream",
     "text": [
      "Saving condition encoder..\n"
     ]
    },
    {
     "data": {
      "text/plain": [
       "['condition_encoder.pkl']"
      ]
     },
     "execution_count": 9,
     "metadata": {},
     "output_type": "execute_result"
    }
   ],
   "source": [
    "import joblib\n",
    "print('Saving condition encoder..')\n",
    "joblib.dump(lab_enc_cond,'condition_encoder.pkl')"
   ]
  },
  {
   "cell_type": "code",
   "execution_count": 8,
   "id": "0ac43a33",
   "metadata": {},
   "outputs": [
    {
     "name": "stdout",
     "output_type": "stream",
     "text": [
      "After Encoding\n",
      "Train data shape (103927, 1)\n",
      "Test data shape (63630, 1)\n",
      "CV data shape (44541, 1)\n"
     ]
    }
   ],
   "source": [
    "\n",
    "lab_enc_year = LabelEncoder()\n",
    "\n",
    "lab_enc_year.fit(X['year'].values)\n",
    "\n",
    "X_train_year = lab_enc_year.transform(X_train['year'].values).reshape(-1,1)\n",
    "X_test_year = lab_enc_year.transform(X_test['year'].values).reshape(-1,1)\n",
    "X_cv_year = lab_enc_year.transform(X_cv['year'].values).reshape(-1,1)\n",
    "\n",
    "print('After Encoding')\n",
    "print('Train data shape',X_train_year.shape)\n",
    "print('Test data shape',X_test_year.shape)\n",
    "print('CV data shape',X_cv_year.shape)"
   ]
  },
  {
   "cell_type": "code",
   "execution_count": 11,
   "id": "106a1da7",
   "metadata": {},
   "outputs": [
    {
     "name": "stdout",
     "output_type": "stream",
     "text": [
      "Saving year encoder..\n"
     ]
    },
    {
     "data": {
      "text/plain": [
       "['year_encoder.pkl']"
      ]
     },
     "execution_count": 11,
     "metadata": {},
     "output_type": "execute_result"
    }
   ],
   "source": [
    "print('Saving year encoder..')\n",
    "joblib.dump(lab_enc_year,'year_encoder.pkl')"
   ]
  },
  {
   "cell_type": "markdown",
   "id": "098ad4ad",
   "metadata": {},
   "source": [
    "<b>Vectorizing the Cleaned reviews using BoW (1 grams)</b>"
   ]
  },
  {
   "cell_type": "code",
   "execution_count": 9,
   "id": "726b5ca5",
   "metadata": {},
   "outputs": [],
   "source": [
    "from sklearn.feature_extraction.text import CountVectorizer,TfidfVectorizer\n",
    "from sklearn.preprocessing import Normalizer,StandardScaler,MinMaxScaler\n",
    "import joblib"
   ]
  },
  {
   "cell_type": "code",
   "execution_count": 10,
   "id": "df1a5994",
   "metadata": {},
   "outputs": [
    {
     "name": "stdout",
     "output_type": "stream",
     "text": [
      "After Vectorization\n",
      "Train data shape: (103927, 7309)\n",
      "Test data shape: (63630, 7309)\n",
      "CV data shape: (44541, 7309)\n"
     ]
    }
   ],
   "source": [
    "vect_bow_1 = CountVectorizer(min_df=10,ngram_range=(1,1))\n",
    "\n",
    "vect_bow_1.fit(X_train['cleaned_review'].values) # fitted on train data only\n",
    "\n",
    "X_train_review_bow_1 = vect_bow_1.transform(X_train['cleaned_review'].values)\n",
    "X_test_review_bow_1 = vect_bow_1.transform(X_test['cleaned_review'].values)\n",
    "X_cv_review_bow_1 = vect_bow_1.transform(X_cv['cleaned_review'].values)\n",
    "\n",
    "print('After Vectorization')\n",
    "print('Train data shape:',X_train_review_bow_1.shape)\n",
    "print('Test data shape:',X_test_review_bow_1.shape)\n",
    "print('CV data shape:',X_cv_review_bow_1.shape)"
   ]
  },
  {
   "cell_type": "code",
   "execution_count": 11,
   "id": "2d7cac5a",
   "metadata": {},
   "outputs": [
    {
     "name": "stdout",
     "output_type": "stream",
     "text": [
      "Vectorizer for BoW is saved..\n"
     ]
    },
    {
     "data": {
      "text/plain": [
       "['vectorizer_bow.pkl']"
      ]
     },
     "execution_count": 11,
     "metadata": {},
     "output_type": "execute_result"
    }
   ],
   "source": [
    "print('Vectorizer for BoW is saved..')\n",
    "joblib.dump(vect_bow_1,'vectorizer_bow.pkl')"
   ]
  },
  {
   "cell_type": "code",
   "execution_count": 10,
   "id": "40f22bee",
   "metadata": {},
   "outputs": [
    {
     "name": "stdout",
     "output_type": "stream",
     "text": [
      "After Vectorization\n",
      "Train data shape: (103927, 7309)\n",
      "Test data shape: (63630, 7309)\n",
      "CV data shape: (44541, 7309)\n"
     ]
    }
   ],
   "source": [
    "vect_bow_1 = joblib.load('vectorizer_bow.pkl')\n",
    "\n",
    "X_train_review_bow_1 = vect_bow_1.transform(X_train['cleaned_review'].values)\n",
    "X_test_review_bow_1 = vect_bow_1.transform(X_test['cleaned_review'].values)\n",
    "X_cv_review_bow_1 = vect_bow_1.transform(X_cv['cleaned_review'].values)\n",
    "\n",
    "print('After Vectorization')\n",
    "print('Train data shape:',X_train_review_bow_1.shape)\n",
    "print('Test data shape:',X_test_review_bow_1.shape)\n",
    "print('CV data shape:',X_cv_review_bow_1.shape)\n"
   ]
  },
  {
   "cell_type": "markdown",
   "id": "86250d97",
   "metadata": {},
   "source": [
    "<b>Vectorizing the Cleaned reviews using TF-IDF (1 grams)</b>"
   ]
  },
  {
   "cell_type": "code",
   "execution_count": 15,
   "id": "d122686c",
   "metadata": {},
   "outputs": [
    {
     "name": "stdout",
     "output_type": "stream",
     "text": [
      "After Vectorization\n",
      "Train data shape: (103927, 7309)\n",
      "Test data shape: (63630, 7309)\n",
      "CV data shape: (44541, 7309)\n"
     ]
    }
   ],
   "source": [
    "vect_tfidf_1 = TfidfVectorizer(min_df=10,ngram_range=(1,1))\n",
    "\n",
    "vect_tfidf_1.fit(X_train['cleaned_review'].values) # fitted on train data only\n",
    "\n",
    "X_train_review_tfidf_1 = vect_tfidf_1.transform(X_train['cleaned_review'].values)\n",
    "X_test_review_tfidf_1 = vect_tfidf_1.transform(X_test['cleaned_review'].values)\n",
    "X_cv_review_tfidf_1 = vect_tfidf_1.transform(X_cv['cleaned_review'].values)\n",
    "\n",
    "print('After Vectorization')\n",
    "print('Train data shape:',X_train_review_tfidf_1.shape)\n",
    "print('Test data shape:',X_test_review_tfidf_1.shape)\n",
    "print('CV data shape:',X_cv_review_tfidf_1.shape)"
   ]
  },
  {
   "cell_type": "code",
   "execution_count": 16,
   "id": "63395dc7",
   "metadata": {},
   "outputs": [
    {
     "name": "stdout",
     "output_type": "stream",
     "text": [
      "Vectorizer for TF-IDF is saved..\n"
     ]
    },
    {
     "data": {
      "text/plain": [
       "['vectorizer_tfidf.pkl']"
      ]
     },
     "execution_count": 16,
     "metadata": {},
     "output_type": "execute_result"
    }
   ],
   "source": [
    "print('Vectorizer for TF-IDF is saved..')\n",
    "joblib.dump(vect_tfidf_1,'vectorizer_tfidf.pkl')"
   ]
  },
  {
   "cell_type": "code",
   "execution_count": 11,
   "id": "5339db14",
   "metadata": {},
   "outputs": [
    {
     "name": "stdout",
     "output_type": "stream",
     "text": [
      "After Vectorization\n",
      "Train data shape: (103927, 7309)\n",
      "Test data shape: (63630, 7309)\n",
      "CV data shape: (44541, 7309)\n"
     ]
    }
   ],
   "source": [
    "vect_tfidf_1 = joblib.load('vectorizer_tfidf.pkl')\n",
    "\n",
    "\n",
    "X_train_review_tfidf_1 = vect_tfidf_1.transform(X_train['cleaned_review'].values)\n",
    "X_test_review_tfidf_1 = vect_tfidf_1.transform(X_test['cleaned_review'].values)\n",
    "X_cv_review_tfidf_1 = vect_tfidf_1.transform(X_cv['cleaned_review'].values)\n",
    "\n",
    "print('After Vectorization')\n",
    "print('Train data shape:',X_train_review_tfidf_1.shape)\n",
    "print('Test data shape:',X_test_review_tfidf_1.shape)\n",
    "print('CV data shape:',X_cv_review_tfidf_1.shape)"
   ]
  },
  {
   "cell_type": "markdown",
   "id": "ceaead66",
   "metadata": {},
   "source": [
    "<b> Word2Vec Vectorization for reviews using pretrained glove model"
   ]
  },
  {
   "cell_type": "code",
   "execution_count": 22,
   "id": "35b7b420",
   "metadata": {},
   "outputs": [],
   "source": [
    "from tqdm import tqdm\n",
    "cleaned_reviews = data['cleaned_review'].values"
   ]
  },
  {
   "cell_type": "code",
   "execution_count": 23,
   "id": "ffa0ba5e",
   "metadata": {},
   "outputs": [
    {
     "name": "stdout",
     "output_type": "stream",
     "text": [
      "Loading Glove Model\n"
     ]
    },
    {
     "name": "stderr",
     "output_type": "stream",
     "text": [
      "400000it [00:37, 10759.70it/s]\n"
     ]
    },
    {
     "name": "stdout",
     "output_type": "stream",
     "text": [
      "Done. 400000  words loaded!\n",
      "all the words in the corpus 8868694\n",
      "the unique words in the corpus 34667\n",
      "The number of words that are present in both glove vectors and our corpus 13620 ( 39.288 %)\n",
      "word 2 vec length 13620\n"
     ]
    }
   ],
   "source": [
    "#Reading glove vectors\n",
    "\n",
    "def loadGloveModel(gloveFile):\n",
    "    print (\"Loading Glove Model\")\n",
    "    f = open(gloveFile,'r', encoding=\"utf8\")\n",
    "    model = {}\n",
    "    for line in tqdm(f):\n",
    "        splitLine = line.split()\n",
    "        word = splitLine[0]\n",
    "        embedding = np.array([float(val) for val in splitLine[1:]])\n",
    "        model[word] = embedding\n",
    "    print (\"Done.\",len(model),\" words loaded!\")\n",
    "    return model\n",
    "model = loadGloveModel('glove.6B.300d.txt')\n",
    "\n",
    "\n",
    "words = []\n",
    "for i in cleaned_reviews:\n",
    "    words.extend(i.split(' '))\n",
    "\n",
    "print(\"all the words in the corpus\", len(words))\n",
    "words = set(words)\n",
    "print(\"the unique words in the corpus\", len(words))\n",
    "\n",
    "inter_words = set(model.keys()).intersection(words)\n",
    "print(\"The number of words that are present in both glove vectors and our corpus\", \\\n",
    "      len(inter_words),\"(\",np.round(len(inter_words)/len(words)*100,3),\"%)\")\n",
    "\n",
    "words_courpus = {}\n",
    "words_glove = set(model.keys())\n",
    "for i in words:\n",
    "    if i in words_glove:\n",
    "        words_courpus[i] = model[i]\n",
    "print(\"word 2 vec length\", len(words_courpus))\n",
    "\n",
    "\n",
    "# stronging variables into pickle files python: http://www.jessicayung.com/how-to-use-pickle-to-save-and-load-variables-in-python/\n",
    "\n",
    "import pickle\n",
    "with open('glove_vectors', 'wb') as f:\n",
    "    pickle.dump(words_courpus, f)\n"
   ]
  },
  {
   "cell_type": "code",
   "execution_count": 24,
   "id": "5f1fb836",
   "metadata": {},
   "outputs": [
    {
     "name": "stdout",
     "output_type": "stream",
     "text": [
      "13620\n"
     ]
    }
   ],
   "source": [
    "import pickle\n",
    "with open('glove_vectors', 'rb') as f:\n",
    "    model = pickle.load(f)\n",
    "    glove_words =  set(model.keys())\n",
    "print(len(glove_words))"
   ]
  },
  {
   "cell_type": "markdown",
   "id": "cfa7af96",
   "metadata": {},
   "source": [
    "- Only 13260 (39%) of words in corpus are present in glove vectors. Very few words of corpus might have a 300 dim vector representation. Rest of the words are represented as zeros.Hence considering only bow and tfidf representation"
   ]
  },
  {
   "cell_type": "markdown",
   "id": "127d8b20",
   "metadata": {},
   "source": [
    "<b>Normalizing the Numerical features</b>"
   ]
  },
  {
   "cell_type": "code",
   "execution_count": 14,
   "id": "7d1cd65d",
   "metadata": {},
   "outputs": [],
   "source": [
    "columns = ['usefulCount','word_count','unique_word_count','char_length','count_punctuations','stopword_count',\n",
    "               'mean_word_len','subj_count','obj_count','CARDINAL','DATE','EVENT','FAC','GPE','LANGUAGE','LAW',\n",
    "            'LOC','MONEY','NORP','ORDINAL','ORG', 'PERCENT','PERSON', 'PRODUCT','QUANTITY','TIME','WORK_OF_ART',\n",
    "           '0','1','2','3','4','5','6','7','8','9','10','11','12','13','14','15','16','17','18','19']"
   ]
  },
  {
   "cell_type": "code",
   "execution_count": 15,
   "id": "d43c32b9",
   "metadata": {},
   "outputs": [
    {
     "name": "stdout",
     "output_type": "stream",
     "text": [
      "After vectorizations\n",
      "(103927, 47) (103927,)\n",
      "(63630, 47) (63630,)\n",
      "(44541, 47) (44541,)\n"
     ]
    }
   ],
   "source": [
    "normalizer = Normalizer()\n",
    "\n",
    "X_train_num_1 = normalizer.fit_transform(X_train[columns])\n",
    "X_test_num_1 = normalizer.fit_transform(X_test[columns])\n",
    "X_cv_num_1 = normalizer.fit_transform(X_cv[columns])\n",
    "\n",
    "print(\"After vectorizations\")\n",
    "print(X_train_num_1.shape, y_train.shape)\n",
    "print(X_test_num_1.shape, y_test.shape)\n",
    "print(X_cv_num_1.shape, y_cv.shape)\n",
    "\n"
   ]
  },
  {
   "cell_type": "code",
   "execution_count": 12,
   "id": "513a70c8",
   "metadata": {},
   "outputs": [
    {
     "name": "stdout",
     "output_type": "stream",
     "text": [
      "After vectorizations\n",
      "(103927, 2) (103927,)\n",
      "(63630, 2) (63630,)\n",
      "(44541, 2) (44541,)\n"
     ]
    }
   ],
   "source": [
    "X_train_sent_score = X_train[['sentiment_score','sentiment_score_clean']].values\n",
    "X_test_sent_score = X_test[['sentiment_score','sentiment_score_clean']].values\n",
    "X_cv_sent_score = X_cv[['sentiment_score','sentiment_score_clean']].values\n",
    "\n",
    "print(\"After vectorizations\")\n",
    "print(X_train_sent_score.shape, y_train.shape)\n",
    "print(X_test_sent_score.shape, y_test.shape)\n",
    "print(X_cv_sent_score.shape, y_cv.shape)"
   ]
  },
  {
   "cell_type": "markdown",
   "id": "4efb2cf6",
   "metadata": {},
   "source": [
    "<b>Next steps:</b>\n",
    "<br>\n",
    "Train the model with different set of features like:\n",
    "- Train the models with BoW vectorized features (try 1,2,3,4 n grams)\n",
    "- Train the models with TF-IDF vectorized features (try 1,2,3,4 n grams)\n",
    "- Train the model with only review extracted features\n",
    "</br>\n",
    "\n",
    "<br>\n",
    "Pick the best model and evaluate the recommendation score for each drug\n",
    "</br>"
   ]
  },
  {
   "cell_type": "markdown",
   "id": "d2cf63bc",
   "metadata": {},
   "source": [
    "### Set-1: All  Extracted Features + Sentiment scores "
   ]
  },
  {
   "cell_type": "code",
   "execution_count": 16,
   "id": "4493a9bd",
   "metadata": {},
   "outputs": [
    {
     "name": "stdout",
     "output_type": "stream",
     "text": [
      "Final Data matrix\n",
      "(103927, 49) (103927,)\n",
      "(63630, 49) (63630,)\n",
      "(44541, 49) (44541,)\n"
     ]
    }
   ],
   "source": [
    "#concatenating all encoded features for set 1 \n",
    "\n",
    "from scipy.sparse import hstack\n",
    "X_tr_1 = np.concatenate((X_train_num_1,X_train_sent_score),axis=1)\n",
    "\n",
    "X_te_1 = np.concatenate((X_test_num_1,X_test_sent_score),axis=1)\n",
    "\n",
    "X_cv_1 = np.concatenate((X_cv_num_1,X_cv_sent_score),axis=1)\n",
    "\n",
    "print(\"Final Data matrix\")\n",
    "print(X_tr_1.shape, y_train.shape)\n",
    "print(X_te_1.shape, y_test.shape)\n",
    "print(X_cv_1.shape, y_cv.shape)"
   ]
  },
  {
   "cell_type": "markdown",
   "id": "1325f2c3",
   "metadata": {},
   "source": [
    "## Modelling "
   ]
  },
  {
   "cell_type": "code",
   "execution_count": 17,
   "id": "b64fcc16",
   "metadata": {},
   "outputs": [],
   "source": [
    "from sklearn.metrics import log_loss, accuracy_score,confusion_matrix, f1_score,roc_auc_score,roc_curve\n",
    "from sklearn.neighbors import KNeighborsClassifier\n",
    "from sklearn.calibration import CalibratedClassifierCV\n",
    "from tqdm import tqdm\n",
    "from sklearn.linear_model import LogisticRegression\n",
    "from sklearn.svm import SVC, LinearSVC\n",
    "from sklearn.ensemble import RandomForestClassifier\n",
    "from sklearn.model_selection import RandomizedSearchCV\n",
    "from xgboost import XGBClassifier\n",
    "import warnings\n",
    "warnings.filterwarnings(\"ignore\")\n",
    "import joblib"
   ]
  },
  {
   "cell_type": "code",
   "execution_count": 18,
   "id": "3bb9ac32",
   "metadata": {},
   "outputs": [],
   "source": [
    "# This function plots the confusion matrices given y_i, y_i_hat.\n",
    "def plot_confusion_matrix(test_y, predict_y):\n",
    "    C = confusion_matrix(test_y, predict_y)\n",
    "    print(\"Number of misclassified points \",(len(test_y)-np.trace(C))/len(test_y)*100)\n",
    "    # C = 9,9 matrix, each cell (i,j) represents number of points of class i are predicted class j\n",
    "    \n",
    "    A =(((C.T)/(C.sum(axis=1))).T)\n",
    "    #divid each element of the confusion matrix with the sum of elements in that column\n",
    "    \n",
    "    # C = [[1, 2],\n",
    "    #     [3, 4]]\n",
    "    # C.T = [[1, 3],\n",
    "    #        [2, 4]]\n",
    "    # C.sum(axis = 1)  axis=0 corresonds to columns and axis=1 corresponds to rows in two diamensional array\n",
    "    # C.sum(axix =1) = [[3, 7]]\n",
    "    # ((C.T)/(C.sum(axis=1))) = [[1/3, 3/7]\n",
    "    #                           [2/3, 4/7]]\n",
    "\n",
    "    # ((C.T)/(C.sum(axis=1))).T = [[1/3, 2/3]\n",
    "    #                           [3/7, 4/7]]\n",
    "    # sum of row elements = 1\n",
    "    \n",
    "    B =(C/C.sum(axis=0))\n",
    "    #divid each element of the confusion matrix with the sum of elements in that row\n",
    "    # C = [[1, 2],\n",
    "    #     [3, 4]]\n",
    "    # C.sum(axis = 0)  axis=0 corresonds to columns and axis=1 corresponds to rows in two diamensional array\n",
    "    # C.sum(axix =0) = [[4, 6]]\n",
    "    # (C/C.sum(axis=0)) = [[1/4, 2/6],\n",
    "    #                      [3/4, 4/6]] \n",
    "    plt.figure(figsize=(20,4))\n",
    "    \n",
    "    labels = [0,1]\n",
    "    # representing A in heatmap format\n",
    "    cmap=sns.light_palette(\"green\")\n",
    "    plt.subplot(1, 3, 1)\n",
    "    sns.heatmap(C, annot=True, cmap=cmap, fmt=\".3f\", xticklabels=labels, yticklabels=labels)\n",
    "    plt.xlabel('Predicted Class')\n",
    "    plt.ylabel('Original Class')\n",
    "    plt.title(\"Confusion matrix\")\n",
    "    \n",
    "    plt.subplot(1, 3, 2)\n",
    "    sns.heatmap(B, annot=True, cmap=cmap, fmt=\".3f\", xticklabels=labels, yticklabels=labels)\n",
    "    plt.xlabel('Predicted Class')\n",
    "    plt.ylabel('Original Class')\n",
    "    plt.title(\"Precision matrix\")\n",
    "    \n",
    "    plt.subplot(1, 3, 3)\n",
    "    # representing B in heatmap format\n",
    "    sns.heatmap(A, annot=True, cmap=cmap, fmt=\".3f\", xticklabels=labels, yticklabels=labels)\n",
    "    plt.xlabel('Predicted Class')\n",
    "    plt.ylabel('Original Class')\n",
    "    plt.title(\"Recall matrix\")\n",
    "    \n",
    "    plt.show()"
   ]
  },
  {
   "cell_type": "code",
   "execution_count": 19,
   "id": "4ab7897e",
   "metadata": {},
   "outputs": [],
   "source": [
    "def model_metrics(clf,train_data,test_data,cv_data):\n",
    "    \n",
    "    print('**LogLoss**')\n",
    "    predict_y = clf.predict_proba(train_data)\n",
    "    print (\"The train log loss is:\",log_loss(y_train, predict_y))\n",
    "    predict_y = clf.predict_proba(cv_data)\n",
    "    print( \"The cross validation log loss is:\",log_loss(y_cv, predict_y))\n",
    "    predict_y = clf.predict_proba(test_data)\n",
    "    print( \"The test log loss is:\",log_loss(y_test, predict_y))\n",
    "\n",
    "    print(50*'-')\n",
    "    \n",
    "    print('**Accuracy**')\n",
    "    y_pred_tr = clf.predict(train_data)\n",
    "    print (\"The train Accuracy is:\",accuracy_score(y_train, y_pred_tr))\n",
    "    y_pred_cv = clf.predict(cv_data)\n",
    "    print( \"The cross validation Accuracy is:\",accuracy_score(y_cv, y_pred_cv))\n",
    "    y_pred_te = clf.predict(test_data)\n",
    "    print( \"The test Accuracy is:\",accuracy_score(y_test, y_pred_te))\n",
    "\n",
    "    print(50*'-')\n",
    "\n",
    "     \n",
    "    print('**F1 Score**')    \n",
    "    print (\"The train F1 score is:\",f1_score(y_train, y_pred_tr))\n",
    "    print( \"The cross validation F1 score is:\",f1_score(y_cv, y_pred_cv))\n",
    "    print( \"The test F1 score is:\",f1_score(y_test, y_pred_te))\n",
    "\n",
    "    print(50*'-')\n",
    "\n",
    "    print('**AUC**')   \n",
    "    print (\"The train AUC is:\",roc_auc_score(y_train, y_pred_tr))\n",
    "    print( \"The cross validation AUC is:\",roc_auc_score(y_cv, y_pred_cv))\n",
    "    print( \"The test AUC is:\",roc_auc_score(y_test, y_pred_te))\n",
    "\n",
    "    print(50*'-')"
   ]
  },
  {
   "cell_type": "markdown",
   "id": "7beccdc4",
   "metadata": {},
   "source": [
    "### Random Model"
   ]
  },
  {
   "cell_type": "code",
   "execution_count": 27,
   "id": "2f032c7e",
   "metadata": {},
   "outputs": [
    {
     "name": "stdout",
     "output_type": "stream",
     "text": [
      "Log loss on Test Data using Random Model 0.8884656898614192\n",
      "Accuray on Test Data using Random Model 0.4974225994027974\n",
      "F1 score on Test Data using Random Model 0.5813554662442563\n",
      "AUC on Test Data using Random Model 0.4971595075043844\n"
     ]
    }
   ],
   "source": [
    "test_len = len(y_test)\n",
    "predicted_y = np.zeros((test_len,2))\n",
    "for i in range(test_len):\n",
    "    rand_probs = np.random.rand(1,2)\n",
    "    predicted_y[i] = ((rand_probs/sum(sum(rand_probs)))[0])\n",
    "print(\"Log loss on Test Data using Random Model\",log_loss(y_test, predicted_y, eps=1e-15))\n",
    "\n",
    "predicted_y =np.argmax(predicted_y, axis=1)\n",
    "\n",
    "print(\"Accuray on Test Data using Random Model\",accuracy_score(y_test, predicted_y))\n",
    "print(\"F1 score on Test Data using Random Model\",f1_score(y_test, predicted_y))\n",
    "print(\"AUC on Test Data using Random Model\",roc_auc_score(y_test, predicted_y))\n"
   ]
  },
  {
   "cell_type": "code",
   "execution_count": 28,
   "id": "9024a555",
   "metadata": {},
   "outputs": [
    {
     "name": "stdout",
     "output_type": "stream",
     "text": [
      "Number of misclassified points  50.257740059720255\n"
     ]
    },
    {
     "data": {
      "image/png": "[encoded data removed]",
      "text/plain": [
       "<Figure size 1440x288 with 6 Axes>"
      ]
     },
     "metadata": {
      "needs_background": "light"
     },
     "output_type": "display_data"
    }
   ],
   "source": [
    "plot_confusion_matrix(y_test,predicted_y)"
   ]
  },
  {
   "cell_type": "markdown",
   "id": "bfb73ec6",
   "metadata": {},
   "source": [
    "Observation:\n",
    "- The Random model shows that the worst case log loss,F1 score, Accuracy and AUC. "
   ]
  },
  {
   "cell_type": "markdown",
   "id": "ef2fe88e",
   "metadata": {},
   "source": [
    "### K Nearest Neighbour Classification "
   ]
  },
  {
   "cell_type": "code",
   "execution_count": 29,
   "id": "0a97c884",
   "metadata": {},
   "outputs": [
    {
     "name": "stdout",
     "output_type": "stream",
     "text": [
      "Fitting 3 folds for each of 7 candidates, totalling 21 fits\n",
      "{'n_neighbors': 13}\n"
     ]
    }
   ],
   "source": [
    "param ={'n_neighbors': [x for x in range(1, 15, 2)]}\n",
    "\n",
    "k_cfl = KNeighborsClassifier()\n",
    "\n",
    "random_kcfl = RandomizedSearchCV(k_cfl,param_distributions=param,scoring='f1',verbose=1,n_jobs=-1,cv=3)\n",
    "random_kcfl.fit(X_tr_1,y_train)\n",
    "\n",
    "print(random_kcfl.best_params_)\n"
   ]
  },
  {
   "cell_type": "code",
   "execution_count": 30,
   "id": "13fd8bed",
   "metadata": {},
   "outputs": [
    {
     "name": "stdout",
     "output_type": "stream",
     "text": [
      "**LogLoss**\n",
      "The train log loss is: 0.49597387313835994\n",
      "The cross validation log loss is: 0.5339671860279693\n",
      "The test log loss is: 0.534741347524283\n",
      "--------------------------------------------------\n",
      "**Accuracy**\n",
      "The train Accuracy is: 0.7567619579127657\n",
      "The cross validation Accuracy is: 0.7316854134393032\n",
      "The test Accuracy is: 0.7293886531510294\n",
      "--------------------------------------------------\n",
      "**F1 Score**\n",
      "The train F1 score is: 0.8435230979690624\n",
      "The cross validation F1 score is: 0.8275742667109117\n",
      "The test F1 score is: 0.8261040810349529\n",
      "--------------------------------------------------\n",
      "**AUC**\n",
      "The train AUC is: 0.6367751191964683\n",
      "The cross validation AUC is: 0.6060743167074485\n",
      "The test AUC is: 0.6033098574930744\n",
      "--------------------------------------------------\n",
      "Number of misclassified points  27.06113468489706\n"
     ]
    },
    {
     "data": {
      "image/png": "[encoded data removed]",
      "text/plain": [
       "<Figure size 1440x288 with 6 Axes>"
      ]
     },
     "metadata": {
      "needs_background": "light"
     },
     "output_type": "display_data"
    }
   ],
   "source": [
    "k_cfl=KNeighborsClassifier(n_neighbors=13,n_jobs=-1)\n",
    "k_cfl.fit(X_tr_1,y_train)\n",
    "sig_clf = CalibratedClassifierCV(k_cfl, method=\"sigmoid\")\n",
    "sig_clf.fit(X_tr_1, y_train)\n",
    "    \n",
    "model_metrics(sig_clf,X_tr_1,X_te_1,X_cv_1)\n",
    "\n",
    "plot_confusion_matrix(y_test, sig_clf.predict(X_te_1))\n"
   ]
  },
  {
   "cell_type": "markdown",
   "id": "416bb628",
   "metadata": {},
   "source": [
    "### Logistic Regression"
   ]
  },
  {
   "cell_type": "code",
   "execution_count": 54,
   "id": "5ff6657f",
   "metadata": {
    "id": "xhaf3AxHQVW4",
    "outputId": "b9f6e65d-5d5d-4db0-b4b6-1a9afcf955e9",
    "scrolled": false
   },
   "outputs": [
    {
     "name": "stdout",
     "output_type": "stream",
     "text": [
      "Fitting 3 folds for each of 9 candidates, totalling 27 fits\n",
      "{'C': 100}\n"
     ]
    }
   ],
   "source": [
    "param = {'C':[10 ** x for x in range(-5, 4)]}\n",
    "\n",
    "logisticR=LogisticRegression(penalty='l2',class_weight='balanced')\n",
    "\n",
    "random_lr = RandomizedSearchCV(logisticR,param_distributions=param,scoring='f1',verbose=1,n_jobs=-1,cv=3)\n",
    "random_lr.fit(X_tr_1,y_train)\n",
    "\n",
    "print(random_lr.best_params_)\n"
   ]
  },
  {
   "cell_type": "code",
   "execution_count": 64,
   "id": "fd4d440a",
   "metadata": {},
   "outputs": [
    {
     "name": "stdout",
     "output_type": "stream",
     "text": [
      "**LogLoss**\n",
      "The train log loss is: 0.5356943056166035\n",
      "The cross validation log loss is: 0.534834613547921\n",
      "The test log loss is: 0.5361495438174686\n",
      "--------------------------------------------------\n",
      "**Accuracy**\n",
      "The train Accuracy is: 0.7331203633319542\n",
      "The cross validation Accuracy is: 0.7348959385734491\n",
      "The test Accuracy is: 0.7325003928964325\n",
      "--------------------------------------------------\n",
      "**F1 Score**\n",
      "The train F1 score is: 0.8254345883211862\n",
      "The cross validation F1 score is: 0.8266842800528401\n",
      "The test F1 score is: 0.8250829830745358\n",
      "--------------------------------------------------\n",
      "**AUC**\n",
      "The train AUC is: 0.6208708738055619\n",
      "The cross validation AUC is: 0.6226145852451497\n",
      "The test AUC is: 0.6199047291047557\n",
      "--------------------------------------------------\n",
      "Number of misclassified points  26.749960710356753\n"
     ]
    },
    {
     "data": {
      "image/png": "[encoded data removed]",
      "text/plain": [
       "<Figure size 1440x288 with 6 Axes>"
      ]
     },
     "metadata": {
      "needs_background": "light"
     },
     "output_type": "display_data"
    }
   ],
   "source": [
    "logisticR=LogisticRegression(C=100 ,penalty='l2',class_weight='balanced',n_jobs=-1)\n",
    "logisticR.fit(X_tr_1,y_train)\n",
    "sig_clf = CalibratedClassifierCV(logisticR, method=\"sigmoid\")\n",
    "sig_clf.fit(X_tr_1, y_train)\n",
    "\n",
    "    \n",
    "model_metrics(sig_clf,X_tr_1,X_te_1,X_cv_1)\n",
    "\n",
    "plot_confusion_matrix(y_test, sig_clf.predict(X_te_1))"
   ]
  },
  {
   "cell_type": "markdown",
   "id": "0ed36731",
   "metadata": {},
   "source": [
    "### Linear Support Vector Classification "
   ]
  },
  {
   "cell_type": "code",
   "execution_count": 57,
   "id": "36c728d2",
   "metadata": {
    "scrolled": false
   },
   "outputs": [
    {
     "name": "stdout",
     "output_type": "stream",
     "text": [
      "Fitting 3 folds for each of 4 candidates, totalling 12 fits\n",
      "{'C': 0.001}\n"
     ]
    }
   ],
   "source": [
    "param= {'C':[0.001,1,10,100]}\n",
    "\n",
    "linSVC=LinearSVC(penalty='l2',loss='hinge')\n",
    "\n",
    "random_svc = RandomizedSearchCV(linSVC,param_distributions=param,scoring='f1',verbose=1,n_jobs=-1,cv=3)\n",
    "random_svc.fit(X_tr_1,y_train)\n",
    "\n",
    "print(random_svc.best_params_)\n"
   ]
  },
  {
   "cell_type": "code",
   "execution_count": 65,
   "id": "b2b27162",
   "metadata": {},
   "outputs": [
    {
     "name": "stdout",
     "output_type": "stream",
     "text": [
      "**LogLoss**\n",
      "The train log loss is: 0.557698691376337\n",
      "The cross validation log loss is: 0.5576952722855745\n",
      "The test log loss is: 0.5584827037401967\n",
      "--------------------------------------------------\n",
      "**Accuracy**\n",
      "The train Accuracy is: 0.7161180443965476\n",
      "The cross validation Accuracy is: 0.7184391908578613\n",
      "The test Accuracy is: 0.7148829168631149\n",
      "--------------------------------------------------\n",
      "**F1 Score**\n",
      "The train F1 score is: 0.8226546204293125\n",
      "The cross validation F1 score is: 0.823884621325956\n",
      "The test F1 score is: 0.8218298240100566\n",
      "--------------------------------------------------\n",
      "**AUC**\n",
      "The train AUC is: 0.5661233666948965\n",
      "The cross validation AUC is: 0.5698474981417271\n",
      "The test AUC is: 0.5648754511754378\n",
      "--------------------------------------------------\n",
      "Number of misclassified points  28.511708313688512\n"
     ]
    },
    {
     "data": {
      "image/png": "[encoded data removed]",
      "text/plain": [
       "<Figure size 1440x288 with 6 Axes>"
      ]
     },
     "metadata": {
      "needs_background": "light"
     },
     "output_type": "display_data"
    }
   ],
   "source": [
    "linSVC=LinearSVC(C=0.001 ,penalty='l2',loss='hinge')\n",
    "linSVC.fit(X_tr_1,y_train)\n",
    "sig_clf = CalibratedClassifierCV(linSVC, method=\"sigmoid\")\n",
    "sig_clf.fit(X_tr_1, y_train)\n",
    "\n",
    "    \n",
    "model_metrics(sig_clf,X_tr_1,X_te_1,X_cv_1)\n",
    "\n",
    "plot_confusion_matrix(y_test, sig_clf.predict(X_te_1))"
   ]
  },
  {
   "cell_type": "markdown",
   "id": "7a14d0df",
   "metadata": {},
   "source": [
    "### Random Forest Classifier "
   ]
  },
  {
   "cell_type": "code",
   "execution_count": 62,
   "id": "04919d00",
   "metadata": {},
   "outputs": [
    {
     "name": "stdout",
     "output_type": "stream",
     "text": [
      "{'n_estimators': 3000}\n"
     ]
    }
   ],
   "source": [
    "param = {'n_estimators':[100,500,1000,2000,3000]}\n",
    "\n",
    "rf_clf =RandomForestClassifier(random_state=42,n_jobs=-1)\n",
    "\n",
    "random_rf = RandomizedSearchCV(rf_clf,param_distributions=param,scoring='f1',verbose=0,n_jobs=-1,cv=3)\n",
    "random_rf.fit(X_tr_1,y_train)\n",
    "\n",
    "print(random_rf.best_params_)"
   ]
  },
  {
   "cell_type": "code",
   "execution_count": 31,
   "id": "2d36c070",
   "metadata": {},
   "outputs": [
    {
     "name": "stdout",
     "output_type": "stream",
     "text": [
      "**LogLoss**\n",
      "The train log loss is: 0.08729853768892455\n",
      "The cross validation log loss is: 0.3514568306806599\n",
      "The test log loss is: 0.3546060199769665\n",
      "--------------------------------------------------\n",
      "**Accuracy**\n",
      "The train Accuracy is: 0.9999903778613835\n",
      "The cross validation Accuracy is: 0.8513279899418513\n",
      "The test Accuracy is: 0.8497721200691498\n",
      "--------------------------------------------------\n",
      "**F1 Score**\n",
      "The train F1 score is: 0.999993136534911\n",
      "The cross validation F1 score is: 0.8968214397008413\n",
      "The test F1 score is: 0.8960808827526227\n",
      "--------------------------------------------------\n",
      "**AUC**\n",
      "The train AUC is: 0.9999839114486131\n",
      "The cross validation AUC is: 0.8039957985101105\n",
      "The test AUC is: 0.7998863359244028\n",
      "--------------------------------------------------\n",
      "Number of misclassified points  15.022787993085023\n"
     ]
    },
    {
     "data": {
      "image/png": "[encoded data removed]",
      "text/plain": [
       "<Figure size 1440x288 with 6 Axes>"
      ]
     },
     "metadata": {
      "needs_background": "light"
     },
     "output_type": "display_data"
    }
   ],
   "source": [
    "rf_clf =RandomForestClassifier(n_estimators=3000 ,random_state=42,n_jobs=-1)\n",
    "rf_clf.fit(X_tr_1,y_train)\n",
    "sig_clf = CalibratedClassifierCV(rf_clf, method=\"sigmoid\")\n",
    "sig_clf.fit(X_tr_1, y_train)\n",
    "\n",
    "    \n",
    "model_metrics(sig_clf,X_tr_1,X_te_1,X_cv_1)\n",
    "\n",
    "plot_confusion_matrix(y_test, sig_clf.predict(X_te_1))"
   ]
  },
  {
   "cell_type": "markdown",
   "id": "489760fc",
   "metadata": {},
   "source": [
    "### XGBOOST Classifier"
   ]
  },
  {
   "cell_type": "code",
   "execution_count": 69,
   "id": "4447edb2",
   "metadata": {},
   "outputs": [
    {
     "name": "stdout",
     "output_type": "stream",
     "text": [
      "{'n_estimators': 3000}\n"
     ]
    }
   ],
   "source": [
    "param = {'n_estimators':[100,500,1000,2000,3000]}\n",
    " \n",
    "x_clf =XGBClassifier(nthread=-1,eval_metric='logloss',objective='binary:logistic', random_state=0)\n",
    "\n",
    "random_xgb = RandomizedSearchCV(x_clf,param_distributions=param,scoring='f1',verbose=0,n_jobs=-1,cv=3)\n",
    "random_xgb.fit(X_tr_1,y_train)\n",
    "\n",
    "print(random_xgb.best_params_)"
   ]
  },
  {
   "cell_type": "code",
   "execution_count": 71,
   "id": "5c9a47cc",
   "metadata": {},
   "outputs": [
    {
     "name": "stdout",
     "output_type": "stream",
     "text": [
      "**LogLoss**\n",
      "The train log loss is: 0.16134332769341642\n",
      "The cross validation log loss is: 0.386258513738559\n",
      "The test log loss is: 0.3868214872748753\n",
      "--------------------------------------------------\n",
      "**Accuracy**\n",
      "The train Accuracy is: 0.9999903778613835\n",
      "The cross validation Accuracy is: 0.848903257672706\n",
      "The test Accuracy is: 0.8490334747760491\n",
      "--------------------------------------------------\n",
      "**F1 Score**\n",
      "The train F1 score is: 0.999993136534911\n",
      "The cross validation F1 score is: 0.8965283970357616\n",
      "The test F1 score is: 0.8967629610523601\n",
      "--------------------------------------------------\n",
      "**AUC**\n",
      "The train AUC is: 0.9999839114486131\n",
      "The cross validation AUC is: 0.791826135425991\n",
      "The test AUC is: 0.7909964823763416\n",
      "--------------------------------------------------\n"
     ]
    },
    {
     "data": {
      "image/png": "[encoded data removed]",
      "text/plain": [
       "<Figure size 432x288 with 1 Axes>"
      ]
     },
     "metadata": {
      "needs_background": "light"
     },
     "output_type": "display_data"
    },
    {
     "name": "stdout",
     "output_type": "stream",
     "text": [
      "Number of misclassified points  15.096652522395097\n"
     ]
    },
    {
     "data": {
      "image/png": "[encoded data removed]",
      "text/plain": [
       "<Figure size 1440x288 with 6 Axes>"
      ]
     },
     "metadata": {
      "needs_background": "light"
     },
     "output_type": "display_data"
    }
   ],
   "source": [
    "#https://machinelearningmastery.com/avoid-overfitting-by-early-stopping-with-xgboost-in-python/\n",
    "\n",
    "eval_set = [(X_tr_1, y_train), (X_te_1, y_test)]\n",
    "\n",
    "x_clf =XGBClassifier(n_estimators=3000,nthread=-1,eval_metric='logloss',objective='binary:logistic',random_state=0)\n",
    "x_clf.fit(X_tr_1,y_train,eval_set=eval_set,verbose=0)\n",
    "sig_clf = CalibratedClassifierCV(x_clf, method=\"sigmoid\")\n",
    "sig_clf.fit(X_tr_1, y_train)\n",
    "\n",
    "    \n",
    "model_metrics(sig_clf,X_tr_1,X_te_1,X_cv_1)\n",
    "\n",
    "results = x_clf.evals_result()\n",
    "epochs = len(results['validation_0']['logloss'])\n",
    "x_axis = range(0, epochs)\n",
    "# plot log loss\n",
    "fig, ax = plt.subplots()\n",
    "ax.plot(x_axis, results['validation_0']['logloss'], label='Train')\n",
    "ax.plot(x_axis, results['validation_1']['logloss'], label='Test')\n",
    "ax.legend()\n",
    "plt.ylabel('Log Loss')\n",
    "plt.title('XGBoost Log Loss')\n",
    "plt.show()\n",
    "\n",
    "\n",
    "plot_confusion_matrix(y_test, sig_clf.predict(X_te_1))"
   ]
  },
  {
   "cell_type": "markdown",
   "id": "0484c4a2",
   "metadata": {},
   "source": [
    "<b> Observations:</b>\n",
    "- For all the numerical features, the Random Forest and XGB Classifiers works well but both of them are observed to be overfitting. We need to tune the hyperparameters to avoid overfitting in later stages.\n",
    "- Using Random Forest classifier, the important numerical features can be selected for further modelling. "
   ]
  },
  {
   "cell_type": "code",
   "execution_count": 32,
   "id": "8ce7ac62",
   "metadata": {},
   "outputs": [],
   "source": [
    "columns = ['usefulCount', 'sentiment_score', 'sentiment_score_clean', 'word_count',\n",
    "       'unique_word_count', 'char_length', 'count_punctuations',\n",
    "       'stopword_count', 'mean_word_len', 'subj_count', 'obj_count',\n",
    "       'CARDINAL', 'DATE', 'EVENT', 'FAC', 'GPE', 'LANGUAGE', 'LAW', 'LOC',\n",
    "       'MONEY', 'NORP', 'ORDINAL', 'ORG', 'PERCENT', 'PERSON', 'PRODUCT',\n",
    "       'QUANTITY', 'TIME', 'WORK_OF_ART', '0', '1', '2', '3', '4', '5', '6',\n",
    "       '7', '8', '9', '10', '11', '12', '13', '14', '15', '16', '17', '18',\n",
    "       '19']"
   ]
  },
  {
   "cell_type": "code",
   "execution_count": 33,
   "id": "284d0a79",
   "metadata": {},
   "outputs": [],
   "source": [
    "# https://chrisalbon.com/code/machine_learning/trees_and_forests/feature_selection_using_random_forest/\n",
    "# https://towardsdatascience.com/feature-selection-using-random-forest-26d7b747597f\n",
    "\n",
    "from sklearn.feature_selection import SelectFromModel\n",
    "\n",
    "def feature_selection_RF(classifier,train_data):\n",
    "    \n",
    "    '''this function takes classifier and data as input and returns the columns/features need to be dropped'''\n",
    "    \n",
    "    model = SelectFromModel(classifier,prefit=True)\n",
    "\n",
    "    X_new = model.transform(train_data)\n",
    "    \n",
    "    print('Important features count from RF feature importance are:',X_new.shape)\n",
    "    \n",
    "    idx = list(model.get_support())\n",
    "    col= np.array(columns)\n",
    "    imp_col = col[idx]\n",
    "    all_col = columns\n",
    "    drop_col=[]\n",
    "    for i in all_col:\n",
    "        if i not in imp_col:\n",
    "            drop_col.append(i)\n",
    "    print('Count of features to be dropped:',len(drop_col))\n",
    " \n",
    "    return drop_col\n",
    "    "
   ]
  },
  {
   "cell_type": "code",
   "execution_count": 35,
   "id": "ff70f383",
   "metadata": {},
   "outputs": [
    {
     "name": "stdout",
     "output_type": "stream",
     "text": [
      "Important features count from RF feature importance are: (103927, 29)\n",
      "Count of features to be dropped: 20\n"
     ]
    }
   ],
   "source": [
    "drop_col = feature_selection_RF(rf_clf,X_tr_1) # feature selection using RF feature importances"
   ]
  },
  {
   "cell_type": "code",
   "execution_count": 36,
   "id": "f028e8a5",
   "metadata": {},
   "outputs": [
    {
     "data": {
      "text/plain": [
       "['subj_count',\n",
       " 'obj_count',\n",
       " 'CARDINAL',\n",
       " 'DATE',\n",
       " 'EVENT',\n",
       " 'FAC',\n",
       " 'GPE',\n",
       " 'LANGUAGE',\n",
       " 'LAW',\n",
       " 'LOC',\n",
       " 'MONEY',\n",
       " 'NORP',\n",
       " 'ORDINAL',\n",
       " 'ORG',\n",
       " 'PERCENT',\n",
       " 'PERSON',\n",
       " 'PRODUCT',\n",
       " 'QUANTITY',\n",
       " '9',\n",
       " '14']"
      ]
     },
     "execution_count": 36,
     "metadata": {},
     "output_type": "execute_result"
    }
   ],
   "source": [
    "drop_col"
   ]
  },
  {
   "cell_type": "markdown",
   "id": "5c1b3602",
   "metadata": {},
   "source": [
    "- From Random Forest feature selection, 20 features can be dropped from our dataset and consider the 29 features for next step of modelling "
   ]
  },
  {
   "cell_type": "code",
   "execution_count": 20,
   "id": "bc02d442",
   "metadata": {},
   "outputs": [],
   "source": [
    "drop_col = ['subj_count', 'obj_count', 'CARDINAL', 'DATE', 'EVENT', 'FAC', 'GPE', 'LANGUAGE', 'LAW', 'LOC', 'MONEY',\n",
    " 'NORP', 'ORDINAL', 'ORG', 'PERCENT', 'PERSON', 'PRODUCT', 'QUANTITY', '9', '14']"
   ]
  },
  {
   "cell_type": "code",
   "execution_count": 21,
   "id": "fd178928",
   "metadata": {},
   "outputs": [
    {
     "name": "stdout",
     "output_type": "stream",
     "text": [
      "After dropping the columns the new shapes are:\n",
      "Train data size: (103927, 33)\n",
      "Test data size: (63630, 33)\n",
      "CV data size: (44541, 33)\n"
     ]
    }
   ],
   "source": [
    "X_train = X_train.drop(drop_col,axis=1)\n",
    "X_test = X_test.drop(drop_col,axis=1)\n",
    "X_cv = X_cv.drop(drop_col,axis=1)\n",
    "\n",
    "print(\"After dropping the columns the new shapes are:\")\n",
    "print('Train data size:',X_train.shape)\n",
    "print('Test data size:',X_test.shape)\n",
    "print('CV data size:',X_cv.shape)"
   ]
  },
  {
   "cell_type": "code",
   "execution_count": 22,
   "id": "0305702e",
   "metadata": {},
   "outputs": [
    {
     "data": {
      "text/plain": [
       "Index(['drugName', 'condition', 'usefulCount', 'cleaned_review',\n",
       "       'sentiment_score', 'sentiment_score_clean', 'year', 'word_count',\n",
       "       'unique_word_count', 'char_length', 'count_punctuations',\n",
       "       'stopword_count', 'mean_word_len', 'TIME', 'WORK_OF_ART', '0', '1', '2',\n",
       "       '3', '4', '5', '6', '7', '8', '10', '11', '12', '13', '15', '16', '17',\n",
       "       '18', '19'],\n",
       "      dtype='object')"
      ]
     },
     "execution_count": 22,
     "metadata": {},
     "output_type": "execute_result"
    }
   ],
   "source": [
    "X_train.columns"
   ]
  },
  {
   "cell_type": "code",
   "execution_count": 23,
   "id": "e1658899",
   "metadata": {},
   "outputs": [],
   "source": [
    "imp_columns = ['usefulCount','word_count', 'unique_word_count', 'char_length', 'count_punctuations',\n",
    "       'stopword_count', 'mean_word_len', 'TIME', 'WORK_OF_ART', '0', '1', '2',\n",
    "               '3', '4', '5', '6', '7', '8', '10', '11', '12', '13', '15', '16', '17', '18', '19']\n"
   ]
  },
  {
   "cell_type": "code",
   "execution_count": 24,
   "id": "ca13787e",
   "metadata": {},
   "outputs": [
    {
     "name": "stdout",
     "output_type": "stream",
     "text": [
      "After vectorizations\n",
      "(103927, 27) (103927,)\n",
      "(63630, 27) (63630,)\n",
      "(44541, 27) (44541,)\n"
     ]
    }
   ],
   "source": [
    "# Normalizing the features after dropping the unimportant features \n",
    "\n",
    "normalizer = Normalizer()\n",
    "\n",
    "X_train_num_2 = normalizer.fit_transform(X_train[imp_columns])\n",
    "X_test_num_2 = normalizer.fit_transform(X_test[imp_columns])\n",
    "X_cv_num_2 = normalizer.fit_transform(X_cv[imp_columns])\n",
    "\n",
    "print(\"After vectorizations\")\n",
    "print(X_train_num_2.shape, y_train.shape)\n",
    "print(X_test_num_2.shape, y_test.shape)\n",
    "print(X_cv_num_2.shape, y_cv.shape)\n"
   ]
  },
  {
   "cell_type": "markdown",
   "id": "cdd4b5a3",
   "metadata": {},
   "source": [
    "### Set - 1 : Important Numerical Features + Sentiment Scores "
   ]
  },
  {
   "cell_type": "code",
   "execution_count": 25,
   "id": "ca94be03",
   "metadata": {},
   "outputs": [
    {
     "name": "stdout",
     "output_type": "stream",
     "text": [
      "Final Data matrix\n",
      "(103927, 29) (103927,)\n",
      "(63630, 29) (63630,)\n",
      "(44541, 29) (44541,)\n"
     ]
    }
   ],
   "source": [
    "#concatenating all encoded features for set 1 \n",
    "\n",
    "from scipy.sparse import hstack\n",
    "X_tr_1 = np.concatenate((X_train_num_2,X_train_sent_score),axis=1)\n",
    "\n",
    "X_te_1 = np.concatenate((X_test_num_2,X_test_sent_score),axis=1)\n",
    "\n",
    "X_cv_1 = np.concatenate((X_cv_num_2,X_cv_sent_score),axis=1)\n",
    "\n",
    "print(\"Final Data matrix\")\n",
    "print(X_tr_1.shape, y_train.shape)\n",
    "print(X_te_1.shape, y_test.shape)\n",
    "print(X_cv_1.shape, y_cv.shape)"
   ]
  },
  {
   "cell_type": "markdown",
   "id": "18b13330",
   "metadata": {},
   "source": [
    "#### HyperParameter Tuning on XGBClassifier "
   ]
  },
  {
   "cell_type": "code",
   "execution_count": 45,
   "id": "17c38395",
   "metadata": {
    "scrolled": true
   },
   "outputs": [
    {
     "name": "stdout",
     "output_type": "stream",
     "text": [
      "{'subsample': 1, 'n_estimators': 3000, 'max_depth': 30, 'learning_rate': 0.2, 'colsample_bytree': 0.5}\n",
      "0.87211567222413\n"
     ]
    }
   ],
   "source": [
    "x_cfl_1 = XGBClassifier()\n",
    "prams={\n",
    "'learning_rate':[0.01,0.03,0.05,0.1,0.15,0.2],\n",
    "'n_estimators':[100,500,1000,2000,3000],\n",
    "'max_depth':[3,5,7,10,30,50],\n",
    "'colsample_bytree':[0.1,0.3,0.5,1],\n",
    "'subsample':[0.1,0.3,0.5,1]\n",
    "}\n",
    "x_random_cfl_1 = RandomizedSearchCV(x_cfl_1,param_distributions=prams,verbose=0,n_jobs=-1,cv=3,scoring='f1')\n",
    "x_random_cfl_1.fit(X_tr_1,y_train)\n",
    "\n",
    "print(x_random_cfl_1.best_params_)\n",
    "print(x_random_cfl_1.best_score_)"
   ]
  },
  {
   "cell_type": "markdown",
   "id": "583ee272",
   "metadata": {},
   "source": [
    "#### Training the XGB Classifier with Best parameters "
   ]
  },
  {
   "cell_type": "code",
   "execution_count": 68,
   "id": "db2d6967",
   "metadata": {},
   "outputs": [
    {
     "name": "stdout",
     "output_type": "stream",
     "text": [
      "**LogLoss**\n",
      "The train log loss is: 0.16973691196047744\n",
      "The cross validation log loss is: 0.3979638611517696\n",
      "The test log loss is: 0.39982343354047983\n",
      "--------------------------------------------------\n",
      "**Accuracy**\n",
      "The train Accuracy is: 0.9999903778613835\n",
      "The cross validation Accuracy is: 0.8476010866392761\n",
      "The test Accuracy is: 0.8466760961810467\n",
      "--------------------------------------------------\n",
      "**F1 Score**\n",
      "The train F1 score is: 0.999993136534911\n",
      "The cross validation F1 score is: 0.8959278793082301\n",
      "The test F1 score is: 0.8954856126668523\n",
      "--------------------------------------------------\n",
      "**AUC**\n",
      "The train AUC is: 0.9999839114486131\n",
      "The cross validation AUC is: 0.7883141823491899\n",
      "The test AUC is: 0.7859396509925142\n",
      "--------------------------------------------------\n"
     ]
    },
    {
     "data": {
      "image/png": "[encoded data removed]",
      "text/plain": [
       "<Figure size 432x288 with 1 Axes>"
      ]
     },
     "metadata": {
      "needs_background": "light"
     },
     "output_type": "display_data"
    },
    {
     "name": "stdout",
     "output_type": "stream",
     "text": [
      "Number of misclassified points  15.332390381895333\n"
     ]
    },
    {
     "data": {
      "image/png": "[encoded data removed]",
      "text/plain": [
       "<Figure size 1440x288 with 6 Axes>"
      ]
     },
     "metadata": {
      "needs_background": "light"
     },
     "output_type": "display_data"
    }
   ],
   "source": [
    "# Here early stopping parameter has been used as in the above xgboost model there is an overfitting \n",
    "# occured with same 3000 estimators\n",
    "\n",
    "\n",
    "eval_set = [(X_tr_1, y_train), (X_cv_1, y_cv)]\n",
    "\n",
    "x_cfl_1=XGBClassifier(n_estimators=3000,subsample=1,max_depth=30,learning_rate=0.2,colsample_bytree=0.5,nthread=-1,objective='binary:logistic', random_state=0)\n",
    "x_cfl_1.fit(X_tr_1,y_train,eval_set=eval_set,eval_metric='logloss',verbose=0,early_stopping_rounds=30)\n",
    "x_sig_clf_1 = CalibratedClassifierCV(x_cfl_1, method=\"sigmoid\")\n",
    "x_sig_clf_1.fit(X_tr_1, y_train)\n",
    "    \n",
    "model_metrics(x_sig_clf_1,X_tr_1,X_te_1,X_cv_1)\n",
    "\n",
    "results = x_cfl_1.evals_result()\n",
    "epochs = len(results['validation_0']['logloss'])\n",
    "x_axis = range(0, epochs)\n",
    "# plot log loss\n",
    "fig, ax = plt.subplots()\n",
    "ax.plot(x_axis, results['validation_0']['logloss'], label='Train')\n",
    "ax.plot(x_axis, results['validation_1']['logloss'], label='Test')\n",
    "ax.legend()\n",
    "plt.ylabel('Log Loss')\n",
    "plt.title('XGBoost Log Loss')\n",
    "plt.show()\n",
    "\n",
    "\n",
    "plot_confusion_matrix(y_test, x_sig_clf_1.predict(X_te_1))"
   ]
  },
  {
   "cell_type": "code",
   "execution_count": 76,
   "id": "ccaff8fa",
   "metadata": {},
   "outputs": [],
   "source": [
    "import joblib"
   ]
  },
  {
   "cell_type": "code",
   "execution_count": 77,
   "id": "ab252b6a",
   "metadata": {},
   "outputs": [
    {
     "name": "stdout",
     "output_type": "stream",
     "text": [
      "Extracted features Model saved..\n"
     ]
    },
    {
     "data": {
      "text/plain": [
       "['extracted_model.pkl']"
      ]
     },
     "execution_count": 77,
     "metadata": {},
     "output_type": "execute_result"
    }
   ],
   "source": [
    "print('Extracted features Model saved..')\n",
    "\n",
    "joblib.dump(x_sig_clf_1, 'extracted_model.pkl')"
   ]
  },
  {
   "cell_type": "markdown",
   "id": "8ffc6dac",
   "metadata": {},
   "source": [
    "<b>Observations:\n",
    "- The XGB classifier with hyper parameter tuning performs well on Set 1 features with log loss of 0.3998 and F1 scoe of 0.895\n",
    "- This model is saved for Set 1 features"
   ]
  },
  {
   "cell_type": "markdown",
   "id": "f5e19af3",
   "metadata": {},
   "source": [
    "### Set -2 Extracted Features + Sentiment Scores + Reviews Bow (uni-gram) vectors "
   ]
  },
  {
   "cell_type": "code",
   "execution_count": 26,
   "id": "13acefbb",
   "metadata": {},
   "outputs": [
    {
     "name": "stdout",
     "output_type": "stream",
     "text": [
      "Final Data matrix\n",
      "(103927, 7340) (103927,)\n",
      "(63630, 7340) (63630,)\n",
      "(44541, 7340) (44541,)\n"
     ]
    }
   ],
   "source": [
    "#concatenating all encoded features for set 2\n",
    "\n",
    "from scipy.sparse import hstack\n",
    "X_tr_2 = hstack((X_train_num_2,X_train_sent_score,X_train_condition,X_train_year,X_train_review_bow_1)).tocsr()\n",
    "\n",
    "X_te_2 = hstack((X_test_num_2,X_test_sent_score,X_test_condition,X_test_year,X_test_review_bow_1)).tocsr()\n",
    "\n",
    "X_cv_2 = hstack((X_cv_num_2,X_cv_sent_score,X_cv_condition,X_cv_year,X_cv_review_bow_1)).tocsr()\n",
    "\n",
    "print(\"Final Data matrix\")\n",
    "print(X_tr_2.shape, y_train.shape)\n",
    "print(X_te_2.shape, y_test.shape)\n",
    "print(X_cv_2.shape, y_cv.shape)"
   ]
  },
  {
   "cell_type": "markdown",
   "id": "3bfd7e95",
   "metadata": {},
   "source": [
    "#### Random Forest Classifier on Set 2 Features "
   ]
  },
  {
   "cell_type": "code",
   "execution_count": 79,
   "id": "f8ff363d",
   "metadata": {},
   "outputs": [
    {
     "name": "stdout",
     "output_type": "stream",
     "text": [
      "{'n_estimators': 3000}\n"
     ]
    }
   ],
   "source": [
    "param = {'n_estimators':[100,500,1000,2000,3000]}\n",
    "\n",
    "rf_clf =RandomForestClassifier(random_state=42,n_jobs=-1)\n",
    "\n",
    "random_rf = RandomizedSearchCV(rf_clf,param_distributions=param,scoring='f1',verbose=0,n_jobs=-1,cv=3)\n",
    "random_rf.fit(X_tr_2,y_train)\n",
    "\n",
    "print(random_rf.best_params_)"
   ]
  },
  {
   "cell_type": "code",
   "execution_count": 24,
   "id": "425a4595",
   "metadata": {},
   "outputs": [
    {
     "name": "stdout",
     "output_type": "stream",
     "text": [
      "**LogLoss**\n",
      "The train log loss is: 0.051807514052186934\n",
      "The cross validation log loss is: 0.27750072434068773\n",
      "The test log loss is: 0.2817033480741443\n",
      "--------------------------------------------------\n",
      "**Accuracy**\n",
      "The train Accuracy is: 0.9999903778613835\n",
      "The cross validation Accuracy is: 0.8873397543836016\n",
      "The test Accuracy is: 0.8844884488448845\n",
      "--------------------------------------------------\n",
      "**F1 Score**\n",
      "The train F1 score is: 0.9999931364406954\n",
      "The cross validation F1 score is: 0.92159375\n",
      "The test F1 score is: 0.9197037231253278\n",
      "--------------------------------------------------\n",
      "**AUC**\n",
      "The train AUC is: 0.9999931364878035\n",
      "The cross validation AUC is: 0.848884012343248\n",
      "The test AUC is: 0.8446751985142116\n",
      "--------------------------------------------------\n",
      "Number of misclassified points  11.55115511551155\n"
     ]
    },
    {
     "data": {
      "image/png": "[encoded data removed]",
      "text/plain": [
       "<Figure size 1440x288 with 6 Axes>"
      ]
     },
     "metadata": {
      "needs_background": "light"
     },
     "output_type": "display_data"
    }
   ],
   "source": [
    "rf_clf =RandomForestClassifier(n_estimators=3000 ,random_state=42,n_jobs=-1)\n",
    "rf_clf.fit(X_tr_2,y_train)\n",
    "sig_clf = CalibratedClassifierCV(rf_clf, method=\"sigmoid\")\n",
    "sig_clf.fit(X_tr_2, y_train)\n",
    "\n",
    "    \n",
    "model_metrics(sig_clf,X_tr_2,X_te_2,X_cv_2)\n",
    "\n",
    "plot_confusion_matrix(y_test, sig_clf.predict(X_te_2))"
   ]
  },
  {
   "cell_type": "code",
   "execution_count": 24,
   "id": "4b8baf51",
   "metadata": {},
   "outputs": [
    {
     "name": "stdout",
     "output_type": "stream",
     "text": [
      "{'n_estimators': 3000}\n"
     ]
    }
   ],
   "source": [
    "param = {'n_estimators':[100,500,1000,2000,3000]}\n",
    " \n",
    "x_clf =XGBClassifier(nthread=-1,eval_metric='logloss',objective='binary:logistic', random_state=0)\n",
    "\n",
    "random_xgb = RandomizedSearchCV(x_clf,param_distributions=param,scoring='f1',verbose=0,n_jobs=-1,cv=3)\n",
    "random_xgb.fit(X_tr_2,y_train)\n",
    "\n",
    "print(random_xgb.best_params_)"
   ]
  },
  {
   "cell_type": "code",
   "execution_count": 25,
   "id": "b581ce91",
   "metadata": {},
   "outputs": [
    {
     "name": "stdout",
     "output_type": "stream",
     "text": [
      "**LogLoss**\n",
      "The train log loss is: 0.09667332134681694\n",
      "The cross validation log loss is: 0.27192230818690677\n",
      "The test log loss is: 0.2741442083385732\n",
      "--------------------------------------------------\n",
      "**Accuracy**\n",
      "The train Accuracy is: 0.9999903778613835\n",
      "The cross validation Accuracy is: 0.9022473675939022\n",
      "The test Accuracy is: 0.9011315417256012\n",
      "--------------------------------------------------\n",
      "**F1 Score**\n",
      "The train F1 score is: 0.999993136534911\n",
      "The cross validation F1 score is: 0.9317554858934168\n",
      "The test F1 score is: 0.9310371287942735\n",
      "--------------------------------------------------\n",
      "**AUC**\n",
      "The train AUC is: 0.9999839114486131\n",
      "The cross validation AUC is: 0.8688167750192451\n",
      "The test AUC is: 0.866883545851316\n",
      "--------------------------------------------------\n"
     ]
    },
    {
     "data": {
      "image/png": "[encoded data removed]",
      "text/plain": [
       "<Figure size 432x288 with 1 Axes>"
      ]
     },
     "metadata": {
      "needs_background": "light"
     },
     "output_type": "display_data"
    },
    {
     "name": "stdout",
     "output_type": "stream",
     "text": [
      "Number of misclassified points  9.886845827439886\n"
     ]
    },
    {
     "data": {
      "image/png": "[encoded data removed]",
      "text/plain": [
       "<Figure size 1440x288 with 6 Axes>"
      ]
     },
     "metadata": {
      "needs_background": "light"
     },
     "output_type": "display_data"
    }
   ],
   "source": [
    "#https://machinelearningmastery.com/avoid-overfitting-by-early-stopping-with-xgboost-in-python/\n",
    "\n",
    "eval_set = [(X_tr_2, y_train), (X_cv_2, y_cv)]\n",
    "\n",
    "x_clf =XGBClassifier(n_estimators=3000,nthread=-1,objective='binary:logistic',random_state=0)\n",
    "x_clf.fit(X_tr_2,y_train,eval_set=eval_set,eval_metric='logloss',verbose=0)\n",
    "sig_clf = CalibratedClassifierCV(x_clf, method=\"sigmoid\")\n",
    "sig_clf.fit(X_tr_2, y_train)\n",
    "\n",
    "    \n",
    "model_metrics(sig_clf,X_tr_2,X_te_2,X_cv_2)\n",
    "\n",
    "results = x_clf.evals_result()\n",
    "epochs = len(results['validation_0']['logloss'])\n",
    "x_axis = range(0, epochs)\n",
    "# plot log loss\n",
    "fig, ax = plt.subplots()\n",
    "ax.plot(x_axis, results['validation_0']['logloss'], label='Train')\n",
    "ax.plot(x_axis, results['validation_1']['logloss'], label='CV')\n",
    "ax.legend()\n",
    "plt.ylabel('Log Loss')\n",
    "plt.title('XGBoost Log Loss')\n",
    "plt.show()\n",
    "\n",
    "\n",
    "plot_confusion_matrix(y_test, sig_clf.predict(X_te_2))"
   ]
  },
  {
   "cell_type": "markdown",
   "id": "7929a729",
   "metadata": {},
   "source": [
    "#### HyperParameter Tuning on XGBClassifier"
   ]
  },
  {
   "cell_type": "code",
   "execution_count": 26,
   "id": "814108a7",
   "metadata": {},
   "outputs": [
    {
     "name": "stdout",
     "output_type": "stream",
     "text": [
      "{'subsample': 1, 'n_estimators': 1000, 'max_depth': 10, 'learning_rate': 0.1, 'colsample_bytree': 0.1}\n"
     ]
    }
   ],
   "source": [
    "x_cfl_2 = XGBClassifier()\n",
    "prams={\n",
    "'learning_rate':[0.01,0.03,0.05,0.1,0.15,0.2],\n",
    "'n_estimators':[100,500,1000,2000,3000],\n",
    "'max_depth':[3,5,7,10],\n",
    "'colsample_bytree':[0.1,0.3,0.5,1],\n",
    "'subsample':[0.1,0.3,0.5,1]\n",
    "}\n",
    "x_random_cfl_2 = RandomizedSearchCV(x_cfl_2,param_distributions=prams,verbose=0,n_jobs=-1,cv=3,scoring='f1')\n",
    "x_random_cfl_2.fit(X_tr_2,y_train)\n",
    "\n",
    "print(x_random_cfl_2.best_params_)"
   ]
  },
  {
   "cell_type": "markdown",
   "id": "9f698a80",
   "metadata": {},
   "source": [
    "#### Training XGBClassifier with best parameters"
   ]
  },
  {
   "cell_type": "code",
   "execution_count": 27,
   "id": "af23f785",
   "metadata": {},
   "outputs": [
    {
     "name": "stdout",
     "output_type": "stream",
     "text": [
      "**LogLoss**\n",
      "The train log loss is: 0.10986655691665105\n",
      "The cross validation log loss is: 0.27624366744724205\n",
      "The test log loss is: 0.27872337775566325\n",
      "--------------------------------------------------\n",
      "**Accuracy**\n",
      "The train Accuracy is: 0.9858843226495521\n",
      "The cross validation Accuracy is: 0.8949956220111807\n",
      "The test Accuracy is: 0.8926292629262926\n",
      "--------------------------------------------------\n",
      "**F1 Score**\n",
      "The train F1 score is: 0.989957488756084\n",
      "The cross validation F1 score is: 0.9266847459752638\n",
      "The test F1 score is: 0.9251041438281079\n",
      "--------------------------------------------------\n",
      "**AUC**\n",
      "The train AUC is: 0.9814072913958877\n",
      "The cross validation AUC is: 0.8602430312284636\n",
      "The test AUC is: 0.8567655215084569\n",
      "--------------------------------------------------\n"
     ]
    },
    {
     "data": {
      "image/png": "[encoded data removed]",
      "text/plain": [
       "<Figure size 432x288 with 1 Axes>"
      ]
     },
     "metadata": {
      "needs_background": "light"
     },
     "output_type": "display_data"
    },
    {
     "name": "stdout",
     "output_type": "stream",
     "text": [
      "Number of misclassified points  10.737073707370737\n"
     ]
    },
    {
     "data": {
      "image/png": "[encoded data removed]",
      "text/plain": [
       "<Figure size 1440x288 with 6 Axes>"
      ]
     },
     "metadata": {
      "needs_background": "light"
     },
     "output_type": "display_data"
    }
   ],
   "source": [
    "eval_set = [(X_tr_2, y_train), (X_cv_2, y_cv)]\n",
    "\n",
    "x_cfl_2=XGBClassifier(n_estimators=1000,subsample=1,max_depth=10,learning_rate=0.1,colsample_bytree=0.1,nthread=-1,objective='binary:logistic', random_state=0)\n",
    "x_cfl_2.fit(X_tr_2,y_train,eval_set=eval_set,eval_metric='logloss',verbose=0,early_stopping_rounds=20)\n",
    "x_sig_clf_2 = CalibratedClassifierCV(x_cfl_2, method=\"sigmoid\")\n",
    "x_sig_clf_2.fit(X_tr_2, y_train)\n",
    "    \n",
    "model_metrics(x_sig_clf_2,X_tr_2,X_te_2,X_cv_2)\n",
    "\n",
    "results = x_cfl_2.evals_result()\n",
    "epochs = len(results['validation_0']['logloss'])\n",
    "x_axis = range(0, epochs)\n",
    "# plot log loss\n",
    "fig, ax = plt.subplots()\n",
    "ax.plot(x_axis, results['validation_0']['logloss'], label='Train')\n",
    "ax.plot(x_axis, results['validation_1']['logloss'], label='CV')\n",
    "ax.legend()\n",
    "plt.ylabel('Log Loss')\n",
    "plt.title('XGBoost Log Loss')\n",
    "plt.show()\n",
    "\n",
    "\n",
    "plot_confusion_matrix(y_test, x_sig_clf_2.predict(X_te_2))"
   ]
  },
  {
   "cell_type": "code",
   "execution_count": 28,
   "id": "1f85c241",
   "metadata": {},
   "outputs": [
    {
     "name": "stdout",
     "output_type": "stream",
     "text": [
      "BoW Model saved..\n"
     ]
    },
    {
     "data": {
      "text/plain": [
       "['Bow_model.pkl']"
      ]
     },
     "execution_count": 28,
     "metadata": {},
     "output_type": "execute_result"
    }
   ],
   "source": [
    "import joblib\n",
    "print('BoW Model saved..')\n",
    "joblib.dump(x_sig_clf_2, 'Bow_model.pkl')"
   ]
  },
  {
   "cell_type": "markdown",
   "id": "c2b2ac82",
   "metadata": {},
   "source": [
    "<b>Observations:\n",
    "- The XGB classifier with hyper parameter tuning gives log loss of 0.278 and F1 score of 0.925  for set 2 features\n",
    "- For Bow representation, this model is saved."
   ]
  },
  {
   "cell_type": "markdown",
   "id": "38d7c80c",
   "metadata": {},
   "source": [
    "### Set -3 Extracted Features + Sentiment Scores + Reviews TF-IDF (uni-gram) vectors "
   ]
  },
  {
   "cell_type": "code",
   "execution_count": 27,
   "id": "06bd3018",
   "metadata": {},
   "outputs": [
    {
     "name": "stdout",
     "output_type": "stream",
     "text": [
      "Final Data matrix\n",
      "(103927, 7340) (103927,)\n",
      "(63630, 7340) (63630,)\n",
      "(44541, 7340) (44541,)\n"
     ]
    }
   ],
   "source": [
    "#concatenating all encoded features for set 3\n",
    "\n",
    "from scipy.sparse import hstack\n",
    "X_tr_3 = hstack((X_train_num_2,X_train_sent_score,X_train_condition,X_train_year,X_train_review_tfidf_1)).tocsr()\n",
    "\n",
    "X_te_3 = hstack((X_test_num_2,X_test_sent_score,X_test_condition,X_test_year,X_test_review_tfidf_1)).tocsr()\n",
    "\n",
    "X_cv_3 = hstack((X_cv_num_2,X_cv_sent_score,X_cv_condition,X_cv_year,X_cv_review_tfidf_1)).tocsr()\n",
    "\n",
    "print(\"Final Data matrix\")\n",
    "print(X_tr_3.shape, y_train.shape)\n",
    "print(X_te_3.shape, y_test.shape)\n",
    "print(X_cv_3.shape, y_cv.shape)\n",
    "\n"
   ]
  },
  {
   "cell_type": "markdown",
   "id": "10f6cb77",
   "metadata": {},
   "source": [
    "#### XGB Classifier on Set 3 Features "
   ]
  },
  {
   "cell_type": "code",
   "execution_count": 30,
   "id": "62031361",
   "metadata": {},
   "outputs": [
    {
     "name": "stdout",
     "output_type": "stream",
     "text": [
      "{'n_estimators': 3000}\n"
     ]
    }
   ],
   "source": [
    "param = {'n_estimators':[100,500,1000,2000,3000]}\n",
    " \n",
    "x_clf =XGBClassifier(nthread=-1,eval_metric='logloss',objective='binary:logistic', random_state=0)\n",
    "\n",
    "random_xgb = RandomizedSearchCV(x_clf,param_distributions=param,scoring='f1',verbose=0,n_jobs=-1,cv=3)\n",
    "random_xgb.fit(X_tr_3,y_train)\n",
    "\n",
    "print(random_xgb.best_params_)"
   ]
  },
  {
   "cell_type": "code",
   "execution_count": 32,
   "id": "92a2c646",
   "metadata": {},
   "outputs": [
    {
     "name": "stdout",
     "output_type": "stream",
     "text": [
      "**LogLoss**\n",
      "The train log loss is: 0.09586619975883244\n",
      "The cross validation log loss is: 0.2745412179503166\n",
      "The test log loss is: 0.27723192434765137\n",
      "--------------------------------------------------\n",
      "**Accuracy**\n",
      "The train Accuracy is: 0.9999903778613835\n",
      "The cross validation Accuracy is: 0.9003839159426147\n",
      "The test Accuracy is: 0.8992613547068993\n",
      "--------------------------------------------------\n",
      "**F1 Score**\n",
      "The train F1 score is: 0.999993136534911\n",
      "The cross validation F1 score is: 0.930473071438645\n",
      "The test F1 score is: 0.9297380247725527\n",
      "--------------------------------------------------\n",
      "**AUC**\n",
      "The train AUC is: 0.9999839114486131\n",
      "The cross validation AUC is: 0.8664112837128496\n",
      "The test AUC is: 0.8646002432624235\n",
      "--------------------------------------------------\n"
     ]
    },
    {
     "data": {
      "image/png": "[encoded data removed]",
      "text/plain": [
       "<Figure size 432x288 with 1 Axes>"
      ]
     },
     "metadata": {
      "needs_background": "light"
     },
     "output_type": "display_data"
    },
    {
     "name": "stdout",
     "output_type": "stream",
     "text": [
      "Number of misclassified points  10.073864529310073\n"
     ]
    },
    {
     "data": {
      "image/png": "[encoded data removed]",
      "text/plain": [
       "<Figure size 1440x288 with 6 Axes>"
      ]
     },
     "metadata": {
      "needs_background": "light"
     },
     "output_type": "display_data"
    }
   ],
   "source": [
    "#https://machinelearningmastery.com/avoid-overfitting-by-early-stopping-with-xgboost-in-python/\n",
    "\n",
    "eval_set = [(X_tr_3, y_train), (X_cv_3, y_cv)]\n",
    "\n",
    "x_clf =XGBClassifier(n_estimators=3000,nthread=-1,objective='binary:logistic',random_state=0)\n",
    "x_clf.fit(X_tr_3,y_train,eval_set=eval_set,eval_metric='logloss',verbose=0)\n",
    "sig_clf = CalibratedClassifierCV(x_clf, method=\"sigmoid\")\n",
    "sig_clf.fit(X_tr_3, y_train)\n",
    "\n",
    "    \n",
    "model_metrics(sig_clf,X_tr_3,X_te_3,X_cv_3)\n",
    "\n",
    "results = x_clf.evals_result()\n",
    "epochs = len(results['validation_0']['logloss'])\n",
    "x_axis = range(0, epochs)\n",
    "# plot log loss\n",
    "fig, ax = plt.subplots()\n",
    "ax.plot(x_axis, results['validation_0']['logloss'], label='Train')\n",
    "ax.plot(x_axis, results['validation_1']['logloss'], label='CV')\n",
    "ax.legend()\n",
    "plt.ylabel('Log Loss')\n",
    "plt.title('XGBoost Log Loss')\n",
    "plt.show()\n",
    "\n",
    "\n",
    "plot_confusion_matrix(y_test, sig_clf.predict(X_te_3))"
   ]
  },
  {
   "cell_type": "markdown",
   "id": "c4fc2dff",
   "metadata": {},
   "source": [
    "#### Hyperparameter Tuning for XGB Classifier  "
   ]
  },
  {
   "cell_type": "code",
   "execution_count": 33,
   "id": "e68dd469",
   "metadata": {},
   "outputs": [
    {
     "name": "stdout",
     "output_type": "stream",
     "text": [
      "{'subsample': 0.3, 'n_estimators': 3000, 'max_depth': 7, 'learning_rate': 0.05, 'colsample_bytree': 1}\n"
     ]
    }
   ],
   "source": [
    "x_cfl_3 = XGBClassifier()\n",
    "prams={\n",
    "'learning_rate':[0.01,0.03,0.05,0.1,0.15,0.2],\n",
    "'n_estimators':[100,500,1000,2000,3000],\n",
    "'max_depth':[3,5,7,10],\n",
    "'colsample_bytree':[0.1,0.3,0.5,1],\n",
    "'subsample':[0.1,0.3,0.5,1]\n",
    "}\n",
    "x_random_cfl_3 = RandomizedSearchCV(x_cfl_3,param_distributions=prams,verbose=0,n_jobs=-1,cv=3,scoring='f1')\n",
    "x_random_cfl_3.fit(X_tr_3,y_train)\n",
    "\n",
    "print(x_random_cfl_3.best_params_)"
   ]
  },
  {
   "cell_type": "markdown",
   "id": "7d526cf3",
   "metadata": {},
   "source": [
    "#### Training the XGB Classifier with best parameters "
   ]
  },
  {
   "cell_type": "code",
   "execution_count": 23,
   "id": "6cf3671e",
   "metadata": {},
   "outputs": [
    {
     "name": "stdout",
     "output_type": "stream",
     "text": [
      "**LogLoss**\n",
      "The train log loss is: 0.13642934082172956\n",
      "The cross validation log loss is: 0.29110102101757857\n",
      "The test log loss is: 0.2939989744759496\n",
      "--------------------------------------------------\n",
      "**Accuracy**\n",
      "The train Accuracy is: 0.9730291454578694\n",
      "The cross validation Accuracy is: 0.8853191441593139\n",
      "The test Accuracy is: 0.883969825553984\n",
      "--------------------------------------------------\n",
      "**F1 Score**\n",
      "The train F1 score is: 0.9808617993868676\n",
      "The cross validation F1 score is: 0.9199448327743472\n",
      "The test F1 score is: 0.9190717863837157\n",
      "--------------------------------------------------\n",
      "**AUC**\n",
      "The train AUC is: 0.9643133304368862\n",
      "The cross validation AUC is: 0.848562073311508\n",
      "The test AUC is: 0.8463696442632924\n",
      "--------------------------------------------------\n"
     ]
    },
    {
     "data": {
      "image/png": "[encoded data removed]",
      "text/plain": [
       "<Figure size 432x288 with 1 Axes>"
      ]
     },
     "metadata": {
      "needs_background": "light"
     },
     "output_type": "display_data"
    },
    {
     "name": "stdout",
     "output_type": "stream",
     "text": [
      "Number of misclassified points  11.603017444601603\n"
     ]
    },
    {
     "data": {
      "image/png": "[encoded data removed]",
      "text/plain": [
       "<Figure size 1440x288 with 6 Axes>"
      ]
     },
     "metadata": {
      "needs_background": "light"
     },
     "output_type": "display_data"
    }
   ],
   "source": [
    "eval_set = [(X_tr_3, y_train), (X_cv_3, y_cv)]\n",
    "\n",
    "x_cfl_3=XGBClassifier(n_estimators=3000,subsample=0.3,max_depth=7,learning_rate=0.05,colsample_bytree=1,nthread=-1,objective='binary:logistic', random_state=0)\n",
    "x_cfl_3.fit(X_tr_3,y_train,eval_set=eval_set,eval_metric='logloss',verbose=0,early_stopping_rounds=30)\n",
    "x_sig_clf_3 = CalibratedClassifierCV(x_cfl_3, method=\"sigmoid\")\n",
    "x_sig_clf_3.fit(X_tr_3, y_train)\n",
    "    \n",
    "model_metrics(x_sig_clf_3,X_tr_3,X_te_3,X_cv_3)\n",
    "\n",
    "results = x_cfl_3.evals_result()\n",
    "epochs = len(results['validation_0']['logloss'])\n",
    "x_axis = range(0, epochs)\n",
    "# plot log loss\n",
    "fig, ax = plt.subplots()\n",
    "ax.plot(x_axis, results['validation_0']['logloss'], label='Train')\n",
    "ax.plot(x_axis, results['validation_1']['logloss'], label='CV')\n",
    "ax.legend()\n",
    "plt.ylabel('Log Loss')\n",
    "plt.title('XGBoost Log Loss')\n",
    "plt.show()\n",
    "\n",
    "\n",
    "plot_confusion_matrix(y_test, x_sig_clf_3.predict(X_te_3))"
   ]
  },
  {
   "cell_type": "code",
   "execution_count": 24,
   "id": "78497faa",
   "metadata": {},
   "outputs": [
    {
     "name": "stdout",
     "output_type": "stream",
     "text": [
      "TF-IDF Model saved..\n"
     ]
    },
    {
     "data": {
      "text/plain": [
       "['tfidf_model.pkl']"
      ]
     },
     "execution_count": 24,
     "metadata": {},
     "output_type": "execute_result"
    }
   ],
   "source": [
    "print('TF-IDF Model saved..')\n",
    "joblib.dump(x_sig_clf_3, 'tfidf_model.pkl')\n"
   ]
  },
  {
   "cell_type": "markdown",
   "id": "c9e28ff2",
   "metadata": {},
   "source": [
    "<b> Observations:\n",
    "- The XGB Classifier with hyper parameter tuning performs well on Set 3 Features with log loss of 0.293 and F1 score of 0.9190 \n",
    "- This model is saved for Set 3 Features "
   ]
  },
  {
   "cell_type": "markdown",
   "id": "abcee46e",
   "metadata": {},
   "source": [
    "### Set -4 Extracted Features + Sentiment Scores + Reviews BoW (n-gram) vectors "
   ]
  },
  {
   "cell_type": "markdown",
   "id": "44cc98d0",
   "metadata": {},
   "source": [
    "- Based on onbservation of some words like 'absolut no side effect', 'no side effect', 'almost no side effect', 'great no pain'. Considering the 2,3,4 grams and vocabulary as words with only no exists in it. "
   ]
  },
  {
   "cell_type": "code",
   "execution_count": 33,
   "id": "8cedaf1f",
   "metadata": {},
   "outputs": [
    {
     "data": {
      "text/plain": [
       "CountVectorizer(min_df=10, ngram_range=(2, 4))"
      ]
     },
     "execution_count": 33,
     "metadata": {},
     "output_type": "execute_result"
    }
   ],
   "source": [
    "ngram_vec_bow = CountVectorizer(min_df=10,ngram_range=(2,4))\n",
    "ngram_vec_bow.fit(X_train['cleaned_review'].values)"
   ]
  },
  {
   "cell_type": "code",
   "execution_count": 42,
   "id": "ad541b3f",
   "metadata": {},
   "outputs": [
    {
     "name": "stdout",
     "output_type": "stream",
     "text": [
      "The Vocab size with only \"no\" in words is 2283\n",
      "--------------------------------------------------\n",
      "New vectorizer vocab size: 2283\n",
      "Saving the new vectorizer with above selected vocabulary..\n"
     ]
    },
    {
     "data": {
      "text/plain": [
       "['ngram_vec_bow.pkl']"
      ]
     },
     "execution_count": 42,
     "metadata": {},
     "output_type": "execute_result"
    }
   ],
   "source": [
    "# Selecting the ngrams if only 'no' exists in it.\n",
    "\n",
    "vocab = []\n",
    "for i in ngram_vec_bow.get_feature_names_out():\n",
    "    if 'no' in i.split(' '):\n",
    "        vocab.append(i)\n",
    "print('The Vocab size with only \"no\" in words is',len(vocab))\n",
    "print(50*'-')\n",
    "ngram_vec_bow = CountVectorizer(ngram_range=(2,4),vocabulary=vocab)\n",
    "print('New vectorizer vocab size:',ngram_vec_bow.get_feature_names_out().shape[0])\n",
    "print('Saving the new vectorizer with above selected vocabulary..')\n",
    "joblib.dump(ngram_vec_bow,'ngram_vec_bow.pkl')"
   ]
  },
  {
   "cell_type": "code",
   "execution_count": 28,
   "id": "71b8c4cb",
   "metadata": {},
   "outputs": [
    {
     "name": "stdout",
     "output_type": "stream",
     "text": [
      "After Vectorization\n",
      "Train data shape: (103927, 2283)\n",
      "Test data shape: (63630, 2283)\n",
      "CV data shape: (44541, 2283)\n"
     ]
    }
   ],
   "source": [
    "vec_bow = joblib.load('ngram_vec_bow.pkl')\n",
    "\n",
    "X_train_review_bow_ngram = vec_bow.transform(X_train['cleaned_review'].values)\n",
    "X_test_review_bow_ngram = vec_bow.transform(X_test['cleaned_review'].values)\n",
    "X_cv_review_bow_ngram = vec_bow.transform(X_cv['cleaned_review'].values)\n",
    "\n",
    "\n",
    "print('After Vectorization')\n",
    "print('Train data shape:',X_train_review_bow_ngram.shape)\n",
    "print('Test data shape:',X_test_review_bow_ngram.shape)\n",
    "print('CV data shape:',X_cv_review_bow_ngram.shape)"
   ]
  },
  {
   "cell_type": "code",
   "execution_count": 29,
   "id": "effe0338",
   "metadata": {},
   "outputs": [
    {
     "name": "stdout",
     "output_type": "stream",
     "text": [
      "Final Data matrix\n",
      "(103927, 2314) (103927,)\n",
      "(63630, 2314) (63630,)\n",
      "(44541, 2314) (44541,)\n"
     ]
    }
   ],
   "source": [
    "#concatenating all encoded features for set 4\n",
    "\n",
    "from scipy.sparse import hstack\n",
    "X_tr_4 = hstack((X_train_num_2,X_train_sent_score,X_train_condition,X_train_year,X_train_review_bow_ngram)).tocsr()\n",
    "\n",
    "X_te_4 = hstack((X_test_num_2,X_test_sent_score,X_test_condition,X_test_year,X_test_review_bow_ngram)).tocsr()\n",
    "\n",
    "X_cv_4 = hstack((X_cv_num_2,X_cv_sent_score,X_cv_condition,X_cv_year,X_cv_review_bow_ngram)).tocsr()\n",
    "\n",
    "print(\"Final Data matrix\")\n",
    "print(X_tr_4.shape, y_train.shape)\n",
    "print(X_te_4.shape, y_test.shape)\n",
    "print(X_cv_4.shape, y_cv.shape)\n"
   ]
  },
  {
   "cell_type": "markdown",
   "id": "c8ee7fa1",
   "metadata": {},
   "source": [
    "#### XGB Classifier on Set 4 Features "
   ]
  },
  {
   "cell_type": "code",
   "execution_count": 52,
   "id": "d8ea49aa",
   "metadata": {},
   "outputs": [
    {
     "name": "stdout",
     "output_type": "stream",
     "text": [
      "{'n_estimators': 2000}\n"
     ]
    }
   ],
   "source": [
    "param = {'n_estimators':[100,500,1000,2000,3000]}\n",
    " \n",
    "x_clf =XGBClassifier(nthread=-1,eval_metric='logloss',objective='binary:logistic', random_state=0)\n",
    "\n",
    "random_xgb = RandomizedSearchCV(x_clf,param_distributions=param,scoring='f1',verbose=0,n_jobs=-1,cv=3)\n",
    "random_xgb.fit(X_tr_4,y_train)\n",
    "\n",
    "print(random_xgb.best_params_)"
   ]
  },
  {
   "cell_type": "code",
   "execution_count": 53,
   "id": "65c20bcf",
   "metadata": {},
   "outputs": [
    {
     "name": "stdout",
     "output_type": "stream",
     "text": [
      "**LogLoss**\n",
      "The train log loss is: 0.1370362406024604\n",
      "The cross validation log loss is: 0.34752482807489854\n",
      "The test log loss is: 0.3497392909981514\n",
      "--------------------------------------------------\n",
      "**Accuracy**\n",
      "The train Accuracy is: 0.9999134007524513\n",
      "The cross validation Accuracy is: 0.8684807256235828\n",
      "The test Accuracy is: 0.8663209178060663\n",
      "--------------------------------------------------\n",
      "**F1 Score**\n",
      "The train F1 score is: 0.999938232205728\n",
      "The cross validation F1 score is: 0.909155759568265\n",
      "The test F1 score is: 0.9076217989096201\n",
      "--------------------------------------------------\n",
      "**AUC**\n",
      "The train AUC is: 0.9998552030375185\n",
      "The cross validation AUC is: 0.8211817426525136\n",
      "The test AUC is: 0.8189233249584293\n",
      "--------------------------------------------------\n"
     ]
    },
    {
     "data": {
      "image/png": "[encoded data removed]",
      "text/plain": [
       "<Figure size 432x288 with 1 Axes>"
      ]
     },
     "metadata": {
      "needs_background": "light"
     },
     "output_type": "display_data"
    },
    {
     "name": "stdout",
     "output_type": "stream",
     "text": [
      "Number of misclassified points  13.367908219393367\n"
     ]
    },
    {
     "data": {
      "image/png": "[encoded data removed]",
      "text/plain": [
       "<Figure size 1440x288 with 6 Axes>"
      ]
     },
     "metadata": {
      "needs_background": "light"
     },
     "output_type": "display_data"
    }
   ],
   "source": [
    "#https://machinelearningmastery.com/avoid-overfitting-by-early-stopping-with-xgboost-in-python/\n",
    "\n",
    "eval_set = [(X_tr_4, y_train), (X_cv_4, y_cv)]\n",
    "\n",
    "x_clf =XGBClassifier(n_estimators=2000,nthread=-1,objective='binary:logistic',random_state=0)\n",
    "x_clf.fit(X_tr_4,y_train,eval_set=eval_set,eval_metric='logloss',verbose=0)\n",
    "sig_clf = CalibratedClassifierCV(x_clf, method=\"sigmoid\")\n",
    "sig_clf.fit(X_tr_4, y_train)\n",
    "\n",
    "    \n",
    "model_metrics(sig_clf,X_tr_4,X_te_4,X_cv_4)\n",
    "\n",
    "results = x_clf.evals_result()\n",
    "epochs = len(results['validation_0']['logloss'])\n",
    "x_axis = range(0, epochs)\n",
    "# plot log loss\n",
    "fig, ax = plt.subplots()\n",
    "ax.plot(x_axis, results['validation_0']['logloss'], label='Train')\n",
    "ax.plot(x_axis, results['validation_1']['logloss'], label='CV')\n",
    "ax.legend()\n",
    "plt.ylabel('Log Loss')\n",
    "plt.title('XGBoost Log Loss')\n",
    "plt.show()\n",
    "\n",
    "\n",
    "plot_confusion_matrix(y_test, sig_clf.predict(X_te_4))"
   ]
  },
  {
   "cell_type": "markdown",
   "id": "0ca611e3",
   "metadata": {},
   "source": [
    "#### Hyperparameter Tuning for XGB Classifier  "
   ]
  },
  {
   "cell_type": "code",
   "execution_count": 54,
   "id": "69eaf27e",
   "metadata": {},
   "outputs": [
    {
     "name": "stdout",
     "output_type": "stream",
     "text": [
      "{'subsample': 0.5, 'n_estimators': 3000, 'max_depth': 10, 'learning_rate': 0.03, 'colsample_bytree': 0.3}\n"
     ]
    }
   ],
   "source": [
    "x_cfl_4 = XGBClassifier()\n",
    "prams={\n",
    "'learning_rate':[0.01,0.03,0.05,0.1,0.15,0.2],\n",
    "'n_estimators':[100,500,1000,2000,3000],\n",
    "'max_depth':[3,5,7,10],\n",
    "'colsample_bytree':[0.1,0.3,0.5,1],\n",
    "'subsample':[0.1,0.3,0.5,1]\n",
    "}\n",
    "x_random_cfl_4 = RandomizedSearchCV(x_cfl_4,param_distributions=prams,verbose=0,n_jobs=-1,cv=3,scoring='f1')\n",
    "x_random_cfl_4.fit(X_tr_4,y_train)\n",
    "\n",
    "print(x_random_cfl_4.best_params_)"
   ]
  },
  {
   "cell_type": "code",
   "execution_count": 55,
   "id": "f04f89bc",
   "metadata": {},
   "outputs": [
    {
     "name": "stdout",
     "output_type": "stream",
     "text": [
      "**LogLoss**\n",
      "The train log loss is: 0.12498534625180444\n",
      "The cross validation log loss is: 0.34407672769840747\n",
      "The test log loss is: 0.3461873989687194\n",
      "--------------------------------------------------\n",
      "**Accuracy**\n",
      "The train Accuracy is: 0.9980274615836116\n",
      "The cross validation Accuracy is: 0.8657416762084371\n",
      "The test Accuracy is: 0.8652836712242653\n",
      "--------------------------------------------------\n",
      "**F1 Score**\n",
      "The train F1 score is: 0.9985939739782306\n",
      "The cross validation F1 score is: 0.9069347609561753\n",
      "The test F1 score is: 0.9065579488968345\n",
      "--------------------------------------------------\n",
      "**AUC**\n",
      "The train AUC is: 0.9971723239644084\n",
      "The cross validation AUC is: 0.8203688704643893\n",
      "The test AUC is: 0.8202629088718849\n",
      "--------------------------------------------------\n"
     ]
    },
    {
     "data": {
      "image/png": "[encoded data removed]",
      "text/plain": [
       "<Figure size 432x288 with 1 Axes>"
      ]
     },
     "metadata": {
      "needs_background": "light"
     },
     "output_type": "display_data"
    },
    {
     "name": "stdout",
     "output_type": "stream",
     "text": [
      "Number of misclassified points  13.471632877573473\n"
     ]
    },
    {
     "data": {
      "image/png": "[encoded data removed]",
      "text/plain": [
       "<Figure size 1440x288 with 6 Axes>"
      ]
     },
     "metadata": {
      "needs_background": "light"
     },
     "output_type": "display_data"
    }
   ],
   "source": [
    "eval_set = [(X_tr_4, y_train), (X_cv_4, y_cv)]\n",
    "\n",
    "x_cfl_4=XGBClassifier(n_estimators=3000,subsample=0.5,max_depth=10,learning_rate=0.03,colsample_bytree=0.3,nthread=-1,objective='binary:logistic', random_state=0)\n",
    "x_cfl_4.fit(X_tr_4,y_train,eval_set=eval_set,eval_metric='logloss',verbose=0,early_stopping_rounds=30)\n",
    "x_sig_clf_4 = CalibratedClassifierCV(x_cfl_4, method=\"sigmoid\")\n",
    "x_sig_clf_4.fit(X_tr_4, y_train)\n",
    "    \n",
    "model_metrics(x_sig_clf_4,X_tr_4,X_te_4,X_cv_4)\n",
    "\n",
    "results = x_cfl_4.evals_result()\n",
    "epochs = len(results['validation_0']['logloss'])\n",
    "x_axis = range(0, epochs)\n",
    "# plot log loss\n",
    "fig, ax = plt.subplots()\n",
    "ax.plot(x_axis, results['validation_0']['logloss'], label='Train')\n",
    "ax.plot(x_axis, results['validation_1']['logloss'], label='CV')\n",
    "ax.legend()\n",
    "plt.ylabel('Log Loss')\n",
    "plt.title('XGBoost Log Loss')\n",
    "plt.show()\n",
    "\n",
    "\n",
    "plot_confusion_matrix(y_test, x_sig_clf_4.predict(X_te_4))"
   ]
  },
  {
   "cell_type": "code",
   "execution_count": 56,
   "id": "908982b2",
   "metadata": {},
   "outputs": [
    {
     "name": "stdout",
     "output_type": "stream",
     "text": [
      "Ngram Bow Model saved\n"
     ]
    },
    {
     "data": {
      "text/plain": [
       "['ngram_bow_model.pkl']"
      ]
     },
     "execution_count": 56,
     "metadata": {},
     "output_type": "execute_result"
    }
   ],
   "source": [
    "print('Ngram Bow Model saved')\n",
    "joblib.dump(x_sig_clf_4,'ngram_bow_model.pkl')"
   ]
  },
  {
   "cell_type": "markdown",
   "id": "f5d4b95f",
   "metadata": {},
   "source": [
    "### Set -5 Extracted Features + Sentiment Scores + Reviews TF-IDF (ngram) vectors "
   ]
  },
  {
   "cell_type": "code",
   "execution_count": 97,
   "id": "91426b39",
   "metadata": {},
   "outputs": [
    {
     "name": "stdout",
     "output_type": "stream",
     "text": [
      "New vectorizer vocab size: 2283\n",
      "Saving the new vectorizer with above selected vocabulary..\n"
     ]
    },
    {
     "data": {
      "text/plain": [
       "['ngram_vec_tfidf.pkl']"
      ]
     },
     "execution_count": 97,
     "metadata": {},
     "output_type": "execute_result"
    }
   ],
   "source": [
    "# selecting only 2,3,4 grams to vectorize using tfidf vectorizer.\n",
    "\n",
    "ngram_vec_tfidf = TfidfVectorizer(ngram_range=(2,4),vocabulary=vocab)\n",
    "ngram_vec_tfidf.fit(vocab)\n",
    "print('New vectorizer vocab size:',ngram_vec_tfidf.get_feature_names_out().shape[0])\n",
    "print('Saving the new vectorizer with above selected vocabulary..')\n",
    "joblib.dump(ngram_vec_tfidf,'ngram_vec_tfidf.pkl')"
   ]
  },
  {
   "cell_type": "code",
   "execution_count": 30,
   "id": "49227fa8",
   "metadata": {},
   "outputs": [
    {
     "name": "stdout",
     "output_type": "stream",
     "text": [
      "After Vectorization\n",
      "Train data shape: (103927, 2283)\n",
      "Test data shape: (63630, 2283)\n",
      "CV data shape: (44541, 2283)\n"
     ]
    }
   ],
   "source": [
    "vec_tfidf = joblib.load('ngram_vec_tfidf.pkl')\n",
    "\n",
    "X_train_review_tfidf_ngram = vec_tfidf.transform(X_train['cleaned_review'].values)\n",
    "X_test_review_tfidf_ngram = vec_tfidf.transform(X_test['cleaned_review'].values)\n",
    "X_cv_review_tfidf_ngram = vec_tfidf.transform(X_cv['cleaned_review'].values)\n",
    "\n",
    "\n",
    "print('After Vectorization')\n",
    "print('Train data shape:',X_train_review_tfidf_ngram.shape)\n",
    "print('Test data shape:',X_test_review_tfidf_ngram.shape)\n",
    "print('CV data shape:',X_cv_review_tfidf_ngram.shape)"
   ]
  },
  {
   "cell_type": "code",
   "execution_count": 31,
   "id": "9691d8a1",
   "metadata": {},
   "outputs": [
    {
     "name": "stdout",
     "output_type": "stream",
     "text": [
      "Final Data matrix\n",
      "(103927, 2314) (103927,)\n",
      "(63630, 2314) (63630,)\n",
      "(44541, 2314) (44541,)\n"
     ]
    }
   ],
   "source": [
    "#concatenating all encoded features for set 5\n",
    "\n",
    "from scipy.sparse import hstack\n",
    "X_tr_5 = hstack((X_train_num_2,X_train_sent_score,X_train_condition,X_train_year,X_train_review_tfidf_ngram)).tocsr()\n",
    "\n",
    "X_te_5 = hstack((X_test_num_2,X_test_sent_score,X_test_condition,X_test_year,X_test_review_tfidf_ngram)).tocsr()\n",
    "\n",
    "X_cv_5 = hstack((X_cv_num_2,X_cv_sent_score,X_cv_condition,X_cv_year,X_cv_review_tfidf_ngram)).tocsr()\n",
    "\n",
    "print(\"Final Data matrix\")\n",
    "print(X_tr_5.shape, y_train.shape)\n",
    "print(X_te_5.shape, y_test.shape)\n",
    "print(X_cv_5.shape, y_cv.shape)\n"
   ]
  },
  {
   "cell_type": "markdown",
   "id": "5b892855",
   "metadata": {},
   "source": [
    "#### XGB Classifier on Set 5 Features "
   ]
  },
  {
   "cell_type": "code",
   "execution_count": 113,
   "id": "aeb397c0",
   "metadata": {},
   "outputs": [
    {
     "name": "stdout",
     "output_type": "stream",
     "text": [
      "{'n_estimators': 3000}\n"
     ]
    }
   ],
   "source": [
    "param = {'n_estimators':[100,500,1000,2000,3000]}\n",
    " \n",
    "x_clf =XGBClassifier(nthread=-1,eval_metric='logloss',objective='binary:logistic', random_state=0)\n",
    "\n",
    "random_xgb = RandomizedSearchCV(x_clf,param_distributions=param,scoring='f1',verbose=0,n_jobs=-1,cv=3)\n",
    "random_xgb.fit(X_tr_5,y_train)\n",
    "\n",
    "print(random_xgb.best_params_)"
   ]
  },
  {
   "cell_type": "code",
   "execution_count": 114,
   "id": "db424c38",
   "metadata": {},
   "outputs": [
    {
     "name": "stdout",
     "output_type": "stream",
     "text": [
      "**LogLoss**\n",
      "The train log loss is: 0.13814669692271123\n",
      "The cross validation log loss is: 0.3491388135153498\n",
      "The test log loss is: 0.35192505293719845\n",
      "--------------------------------------------------\n",
      "**Accuracy**\n",
      "The train Accuracy is: 0.9999903778613835\n",
      "The cross validation Accuracy is: 0.8680766035787252\n",
      "The test Accuracy is: 0.8658651579443659\n",
      "--------------------------------------------------\n",
      "**F1 Score**\n",
      "The train F1 score is: 0.999993136534911\n",
      "The cross validation F1 score is: 0.908913346767943\n",
      "The test F1 score is: 0.9073742471105323\n",
      "--------------------------------------------------\n",
      "**AUC**\n",
      "The train AUC is: 0.9999839114486131\n",
      "The cross validation AUC is: 0.8204199122185233\n",
      "The test AUC is: 0.8178749496879663\n",
      "--------------------------------------------------\n"
     ]
    },
    {
     "data": {
      "image/png": "[encoded data removed]",
      "text/plain": [
       "<Figure size 432x288 with 1 Axes>"
      ]
     },
     "metadata": {
      "needs_background": "light"
     },
     "output_type": "display_data"
    },
    {
     "name": "stdout",
     "output_type": "stream",
     "text": [
      "Number of misclassified points  13.413484205563414\n"
     ]
    },
    {
     "data": {
      "image/png": "[encoded data removed]",
      "text/plain": [
       "<Figure size 1440x288 with 6 Axes>"
      ]
     },
     "metadata": {
      "needs_background": "light"
     },
     "output_type": "display_data"
    }
   ],
   "source": [
    "#https://machinelearningmastery.com/avoid-overfitting-by-early-stopping-with-xgboost-in-python/\n",
    "\n",
    "eval_set = [(X_tr_5, y_train), (X_cv_5, y_cv)]\n",
    "\n",
    "x_clf =XGBClassifier(n_estimators=3000,nthread=-1,objective='binary:logistic',random_state=0)\n",
    "x_clf.fit(X_tr_5,y_train,eval_set=eval_set,eval_metric='logloss',verbose=0)\n",
    "sig_clf = CalibratedClassifierCV(x_clf, method=\"sigmoid\")\n",
    "sig_clf.fit(X_tr_5, y_train)\n",
    "\n",
    "    \n",
    "model_metrics(sig_clf,X_tr_5,X_te_5,X_cv_5)\n",
    "\n",
    "results = x_clf.evals_result()\n",
    "epochs = len(results['validation_0']['logloss'])\n",
    "x_axis = range(0, epochs)\n",
    "# plot log loss\n",
    "fig, ax = plt.subplots()\n",
    "ax.plot(x_axis, results['validation_0']['logloss'], label='Train')\n",
    "ax.plot(x_axis, results['validation_1']['logloss'], label='CV')\n",
    "ax.legend()\n",
    "plt.ylabel('Log Loss')\n",
    "plt.title('XGBoost Log Loss')\n",
    "plt.show()\n",
    "\n",
    "\n",
    "plot_confusion_matrix(y_test, sig_clf.predict(X_te_5))"
   ]
  },
  {
   "cell_type": "markdown",
   "id": "6aaf6212",
   "metadata": {},
   "source": [
    "#### Hyperparameter Tuning for XGB Classifier  "
   ]
  },
  {
   "cell_type": "code",
   "execution_count": 115,
   "id": "18f32e82",
   "metadata": {},
   "outputs": [
    {
     "name": "stdout",
     "output_type": "stream",
     "text": [
      "{'subsample': 0.5, 'n_estimators': 3000, 'max_depth': 10, 'learning_rate': 0.2, 'colsample_bytree': 0.1}\n"
     ]
    }
   ],
   "source": [
    "x_cfl_5 = XGBClassifier()\n",
    "prams={\n",
    "'learning_rate':[0.01,0.03,0.05,0.1,0.15,0.2],\n",
    "'n_estimators':[100,500,1000,2000,3000],\n",
    "'max_depth':[3,5,7,10],\n",
    "'colsample_bytree':[0.1,0.3,0.5,1],\n",
    "'subsample':[0.1,0.3,0.5,1]\n",
    "}\n",
    "x_random_cfl_5 = RandomizedSearchCV(x_cfl_5,param_distributions=prams,verbose=0,n_jobs=-1,cv=3,scoring='f1')\n",
    "x_random_cfl_5.fit(X_tr_5,y_train)\n",
    "\n",
    "print(x_random_cfl_5.best_params_)"
   ]
  },
  {
   "cell_type": "code",
   "execution_count": 116,
   "id": "05e2f632",
   "metadata": {},
   "outputs": [
    {
     "name": "stdout",
     "output_type": "stream",
     "text": [
      "**LogLoss**\n",
      "The train log loss is: 0.14659202567118915\n",
      "The cross validation log loss is: 0.3614213290920811\n",
      "The test log loss is: 0.36373891290894667\n",
      "--------------------------------------------------\n",
      "**Accuracy**\n",
      "The train Accuracy is: 0.9999903778613835\n",
      "The cross validation Accuracy is: 0.8624637974001482\n",
      "The test Accuracy is: 0.8608046518937608\n",
      "--------------------------------------------------\n",
      "**F1 Score**\n",
      "The train F1 score is: 0.999993136534911\n",
      "The cross validation F1 score is: 0.9053870389818991\n",
      "The test F1 score is: 0.9042434726201417\n",
      "--------------------------------------------------\n",
      "**AUC**\n",
      "The train AUC is: 0.9999839114486131\n",
      "The cross validation AUC is: 0.8111639792900358\n",
      "The test AUC is: 0.8092023318075708\n",
      "--------------------------------------------------\n"
     ]
    },
    {
     "data": {
      "image/png": "[encoded data removed]",
      "text/plain": [
       "<Figure size 432x288 with 1 Axes>"
      ]
     },
     "metadata": {
      "needs_background": "light"
     },
     "output_type": "display_data"
    },
    {
     "name": "stdout",
     "output_type": "stream",
     "text": [
      "Number of misclassified points  13.91953481062392\n"
     ]
    },
    {
     "data": {
      "image/png": "[encoded data removed]",
      "text/plain": [
       "<Figure size 1440x288 with 6 Axes>"
      ]
     },
     "metadata": {
      "needs_background": "light"
     },
     "output_type": "display_data"
    }
   ],
   "source": [
    "eval_set = [(X_tr_5, y_train), (X_cv_5, y_cv)]\n",
    "\n",
    "x_cfl_5=XGBClassifier(n_estimators=3000,subsample=0.5,max_depth=10,learning_rate=0.2,colsample_bytree=0.1,nthread=-1,objective='binary:logistic', random_state=0)\n",
    "x_cfl_5.fit(X_tr_5,y_train,eval_set=eval_set,eval_metric='logloss',verbose=0,early_stopping_rounds=30)\n",
    "x_sig_clf_5 = CalibratedClassifierCV(x_cfl_5, method=\"sigmoid\")\n",
    "x_sig_clf_5.fit(X_tr_5, y_train)\n",
    "    \n",
    "model_metrics(x_sig_clf_5,X_tr_5,X_te_5,X_cv_5)\n",
    "\n",
    "results = x_cfl_5.evals_result()\n",
    "epochs = len(results['validation_0']['logloss'])\n",
    "x_axis = range(0, epochs)\n",
    "# plot log loss\n",
    "fig, ax = plt.subplots()\n",
    "ax.plot(x_axis, results['validation_0']['logloss'], label='Train')\n",
    "ax.plot(x_axis, results['validation_1']['logloss'], label='CV')\n",
    "ax.legend()\n",
    "plt.ylabel('Log Loss')\n",
    "plt.title('XGBoost Log Loss')\n",
    "plt.show()\n",
    "\n",
    "\n",
    "plot_confusion_matrix(y_test, x_sig_clf_5.predict(X_te_5))"
   ]
  },
  {
   "cell_type": "code",
   "execution_count": 117,
   "id": "ac305c93",
   "metadata": {},
   "outputs": [
    {
     "name": "stdout",
     "output_type": "stream",
     "text": [
      "Ngram TFIDF Model saved\n"
     ]
    },
    {
     "data": {
      "text/plain": [
       "['ngram_tfidf_model.pkl']"
      ]
     },
     "execution_count": 117,
     "metadata": {},
     "output_type": "execute_result"
    }
   ],
   "source": [
    "print('Ngram TFIDF Model saved')\n",
    "joblib.dump(x_sig_clf_5,'ngram_tfidf_model.pkl')"
   ]
  },
  {
   "cell_type": "markdown",
   "id": "8abf6f9f",
   "metadata": {},
   "source": [
    "<b>Observations:</b>\n",
    "- The n-grams (both Bow and TF-IDF) has also performed good with only considerable features. Hence considering unigram and n-gram(2,3,4) feature set models for both BoW and TF-IDF. "
   ]
  },
  {
   "cell_type": "markdown",
   "id": "316194e6",
   "metadata": {},
   "source": [
    "#### Building the Word2Vec embeddings for the words in our dataset using Gensim"
   ]
  },
  {
   "cell_type": "code",
   "execution_count": 32,
   "id": "4fd5a306",
   "metadata": {},
   "outputs": [],
   "source": [
    "from gensim.models import Word2Vec"
   ]
  },
  {
   "cell_type": "code",
   "execution_count": 13,
   "id": "c05a2e3f",
   "metadata": {},
   "outputs": [
    {
     "name": "stderr",
     "output_type": "stream",
     "text": [
      "100%|██████████████████████████████████████████████████████████████| 212098/212098 [00:01<00:00, 128082.18it/s]\n"
     ]
    }
   ],
   "source": [
    "sentences = []\n",
    "for r in tqdm(data['cleaned_review']):\n",
    "    sentences.append(r.split())"
   ]
  },
  {
   "cell_type": "code",
   "execution_count": 41,
   "id": "9769a925",
   "metadata": {},
   "outputs": [
    {
     "name": "stdout",
     "output_type": "stream",
     "text": [
      "Word2Vec<vocab=34666, vector_size=300, alpha=0.025>\n"
     ]
    }
   ],
   "source": [
    "# https://machinelearningmastery.com/develop-word-embeddings-python-gensim/\n",
    "# https://radimrehurek.com/gensim/models/word2vec.html\n",
    "\n",
    "model = Word2Vec(sentences,vector_size=300,workers=12,min_count=1)\n",
    "print(model)\n",
    "model.save('word2vec.bin')\n"
   ]
  },
  {
   "cell_type": "code",
   "execution_count": 33,
   "id": "eb9034ee",
   "metadata": {},
   "outputs": [],
   "source": [
    "model = Word2Vec.load('word2vec.bin')"
   ]
  },
  {
   "cell_type": "code",
   "execution_count": 34,
   "id": "d8a437ca",
   "metadata": {},
   "outputs": [],
   "source": [
    "def create_w2v(df,feature):\n",
    "    '''This function creates the w2v embeddings for the cleaned reviews passed'''\n",
    "\n",
    "    w2v_vector =[]\n",
    "    for review in df[feature]:\n",
    "        vector = np.zeros(300)\n",
    "        \n",
    "        for word in review.split():\n",
    "            if word in model.wv.key_to_index:\n",
    "                vector += model.wv[word]\n",
    "            \n",
    "        w2v_vector.append(vector)\n",
    "    w2v_vector = np.array(w2v_vector)\n",
    "    return w2v_vector\n",
    "    \n",
    "    "
   ]
  },
  {
   "cell_type": "code",
   "execution_count": 35,
   "id": "1a80d3d4",
   "metadata": {},
   "outputs": [
    {
     "name": "stdout",
     "output_type": "stream",
     "text": [
      "After word embeddings\n",
      "Train data size is: (103927, 300)\n",
      "Test data size is: (63630, 300)\n",
      "CV data size is: (44541, 300)\n"
     ]
    }
   ],
   "source": [
    "X_train_review_w2v = create_w2v(X_train,'cleaned_review')\n",
    "X_test_review_w2v = create_w2v(X_test,'cleaned_review')\n",
    "X_cv_review_w2v = create_w2v(X_cv,'cleaned_review')\n",
    "\n",
    "print('After word embeddings')\n",
    "print('Train data size is:',X_train_review_w2v.shape)\n",
    "print('Test data size is:',X_test_review_w2v.shape)\n",
    "print('CV data size is:',X_cv_review_w2v.shape)"
   ]
  },
  {
   "cell_type": "markdown",
   "id": "a129eac3",
   "metadata": {},
   "source": [
    "### Set -6 Extracted Features + Sentiment Scores + Reviews Word2Vec vectors "
   ]
  },
  {
   "cell_type": "code",
   "execution_count": 36,
   "id": "ecf20b61",
   "metadata": {},
   "outputs": [
    {
     "name": "stdout",
     "output_type": "stream",
     "text": [
      "Final Data matrix\n",
      "(103927, 331) (103927,)\n",
      "(63630, 331) (63630,)\n",
      "(44541, 331) (44541,)\n"
     ]
    }
   ],
   "source": [
    "#concatenating all encoded features for set 6\n",
    "\n",
    "from scipy.sparse import hstack\n",
    "X_tr_6 = np.concatenate((X_train_num_2,X_train_sent_score,X_train_condition,X_train_year,X_train_review_w2v),axis=1)\n",
    "\n",
    "X_te_6 = np.concatenate((X_test_num_2,X_test_sent_score,X_test_condition,X_test_year,X_test_review_w2v),axis=1)\n",
    "\n",
    "X_cv_6 = np.concatenate((X_cv_num_2,X_cv_sent_score,X_cv_condition,X_cv_year,X_cv_review_w2v),axis=1)\n",
    "\n",
    "print(\"Final Data matrix\")\n",
    "print(X_tr_6.shape, y_train.shape)\n",
    "print(X_te_6.shape, y_test.shape)\n",
    "print(X_cv_6.shape, y_cv.shape)\n",
    "\n"
   ]
  },
  {
   "cell_type": "markdown",
   "id": "ba409651",
   "metadata": {},
   "source": [
    "#### XGB Classifier on Set 3 Features "
   ]
  },
  {
   "cell_type": "markdown",
   "id": "b0204382",
   "metadata": {},
   "source": [
    "#### Hyperparameter Tuning for XGB Classifier  "
   ]
  },
  {
   "cell_type": "code",
   "execution_count": 24,
   "id": "3ba8a0f7",
   "metadata": {},
   "outputs": [
    {
     "name": "stdout",
     "output_type": "stream",
     "text": [
      "{'subsample': 1, 'n_estimators': 3000, 'max_depth': 7, 'learning_rate': 0.05, 'colsample_bytree': 1}\n"
     ]
    }
   ],
   "source": [
    "x_cfl_6 = XGBClassifier()\n",
    "prams={\n",
    "'learning_rate':[0.01,0.03,0.05,0.1,0.15,0.2],\n",
    "'n_estimators':[100,500,1000,2000,3000],\n",
    "'max_depth':[3,5,7,10],\n",
    "'colsample_bytree':[0.1,0.3,0.5,1],\n",
    "'subsample':[0.1,0.3,0.5,1]\n",
    "}\n",
    "x_random_cfl_6 = RandomizedSearchCV(x_cfl_6,param_distributions=prams,verbose=0,n_jobs=-1,cv=3,scoring='f1')\n",
    "x_random_cfl_6.fit(X_tr_6,y_train)\n",
    "\n",
    "print(x_random_cfl_6.best_params_)"
   ]
  },
  {
   "cell_type": "markdown",
   "id": "511c904c",
   "metadata": {},
   "source": [
    "#### Training the XGB Classifier with best parameters "
   ]
  },
  {
   "cell_type": "code",
   "execution_count": 25,
   "id": "4d3efd7f",
   "metadata": {},
   "outputs": [
    {
     "name": "stdout",
     "output_type": "stream",
     "text": [
      "**LogLoss**\n",
      "The train log loss is: 0.09418137102532786\n",
      "The cross validation log loss is: 0.28185914782862226\n",
      "The test log loss is: 0.2866658513584094\n",
      "--------------------------------------------------\n",
      "**Accuracy**\n",
      "The train Accuracy is: 0.9999903778613835\n",
      "The cross validation Accuracy is: 0.9000920500213286\n",
      "The test Accuracy is: 0.8974854628319975\n",
      "--------------------------------------------------\n",
      "**F1 Score**\n",
      "The train F1 score is: 0.999993136534911\n",
      "The cross validation F1 score is: 0.9304361419415351\n",
      "The test F1 score is: 0.9285878501910382\n",
      "--------------------------------------------------\n",
      "**AUC**\n",
      "The train AUC is: 0.9999839114486131\n",
      "The cross validation AUC is: 0.8644164385945561\n",
      "The test AUC is: 0.8616307788171615\n",
      "--------------------------------------------------\n"
     ]
    },
    {
     "data": {
      "image/png": "[encoded data removed]",
      "text/plain": [
       "<Figure size 432x288 with 1 Axes>"
      ]
     },
     "metadata": {
      "needs_background": "light"
     },
     "output_type": "display_data"
    },
    {
     "name": "stdout",
     "output_type": "stream",
     "text": [
      "Number of misclassified points  10.251453716800253\n"
     ]
    },
    {
     "data": {
      "image/png": "[encoded data removed]",
      "text/plain": [
       "<Figure size 1440x288 with 6 Axes>"
      ]
     },
     "metadata": {
      "needs_background": "light"
     },
     "output_type": "display_data"
    }
   ],
   "source": [
    "eval_set = [(X_tr_6, y_train), (X_cv_6, y_cv)]\n",
    "\n",
    "x_cfl_6=XGBClassifier(n_estimators=3000,subsample=1,max_depth=7,learning_rate=0.05,colsample_bytree=1,nthread=-1,objective='binary:logistic', random_state=0)\n",
    "x_cfl_6.fit(X_tr_6,y_train,eval_set=eval_set,eval_metric='logloss',verbose=0,early_stopping_rounds=30)\n",
    "x_sig_clf_6 = CalibratedClassifierCV(x_cfl_6, method=\"sigmoid\")\n",
    "x_sig_clf_6.fit(X_tr_6, y_train)\n",
    "    \n",
    "model_metrics(x_sig_clf_6,X_tr_6,X_te_6,X_cv_6)\n",
    "\n",
    "results = x_cfl_6.evals_result()\n",
    "epochs = len(results['validation_0']['logloss'])\n",
    "x_axis = range(0, epochs)\n",
    "# plot log loss\n",
    "fig, ax = plt.subplots()\n",
    "ax.plot(x_axis, results['validation_0']['logloss'], label='Train')\n",
    "ax.plot(x_axis, results['validation_1']['logloss'], label='CV')\n",
    "ax.legend()\n",
    "plt.ylabel('Log Loss')\n",
    "plt.title('XGBoost Log Loss')\n",
    "plt.show()\n",
    "\n",
    "\n",
    "plot_confusion_matrix(y_test, x_sig_clf_6.predict(X_te_6))"
   ]
  },
  {
   "cell_type": "code",
   "execution_count": 26,
   "id": "156125ca",
   "metadata": {},
   "outputs": [
    {
     "name": "stdout",
     "output_type": "stream",
     "text": [
      "W2V Model saved\n"
     ]
    },
    {
     "data": {
      "text/plain": [
       "['W2V Model.pkl']"
      ]
     },
     "execution_count": 26,
     "metadata": {},
     "output_type": "execute_result"
    }
   ],
   "source": [
    "import joblib\n",
    "print('W2V Model saved')\n",
    "joblib.dump(x_sig_clf_6,'W2V Model.pkl')"
   ]
  },
  {
   "cell_type": "markdown",
   "id": "38230d94",
   "metadata": {},
   "source": [
    "The W2v embeddings features are also useful. The model has a F1 score of 0.928"
   ]
  },
  {
   "cell_type": "code",
   "execution_count": null,
   "id": "b2f84945",
   "metadata": {},
   "outputs": [],
   "source": []
  },
  {
   "cell_type": "markdown",
   "id": "aa08ebe0",
   "metadata": {},
   "source": [
    "### Model Evaluation Metrics summary"
   ]
  },
  {
   "cell_type": "code",
   "execution_count": 37,
   "id": "7012e51a",
   "metadata": {},
   "outputs": [],
   "source": [
    "from prettytable import PrettyTable"
   ]
  },
  {
   "cell_type": "code",
   "execution_count": 38,
   "id": "8fbcbe4e",
   "metadata": {},
   "outputs": [],
   "source": [
    "model_1 = joblib.load('extracted_model.pkl')\n",
    "model_2 = joblib.load('Bow_model.pkl')\n",
    "model_3 = joblib.load('tfidf_model.pkl')\n",
    "model_4 = joblib.load('ngram_bow_model.pkl')\n",
    "model_5 = joblib.load('ngram_tfidf_model.pkl')\n",
    "model_6 = joblib.load('W2V Model.pkl')"
   ]
  },
  {
   "cell_type": "code",
   "execution_count": 38,
   "id": "7737a9be",
   "metadata": {},
   "outputs": [
    {
     "name": "stdout",
     "output_type": "stream",
     "text": [
      "+-----------------------+----------------------+---------------------+\n",
      "|         Models        | F1 Score(Train Data) | F1 Score(Test Data) |\n",
      "+-----------------------+----------------------+---------------------+\n",
      "|   XGBOOST+BoW(1gram)  |  0.989957488756084   |  0.9251041438281079 |\n",
      "| XGBOOST+TF-IDF(1gram) |  0.9808617993868676  |  0.9190717863837157 |\n",
      "|  XGBOOST+BoW(n-grams) |  0.9985939739782306  |  0.9065579488968345 |\n",
      "| XGBOOST+TFIDF(n-gram) |  0.999993136534911   |  0.9042434726201417 |\n",
      "|    XGBOOST+Word2Vec   |  0.999993136534911   |  0.9285878501910382 |\n",
      "+-----------------------+----------------------+---------------------+\n"
     ]
    }
   ],
   "source": [
    "t = PrettyTable()\n",
    "t.field_names = ['Models','F1 Score(Train Data)','F1 Score(Test Data)']\n",
    "t.add_row(['XGBOOST+BoW(1gram)',f1_score(y_train,model_2.predict(X_tr_2)),f1_score(y_test,model_2.predict(X_te_2))])\n",
    "t.add_row(['XGBOOST+TF-IDF(1gram)',f1_score(y_train,model_3.predict(X_tr_3)),f1_score(y_test,model_3.predict(X_te_3))])\n",
    "t.add_row(['XGBOOST+BoW(n-grams)',f1_score(y_train,model_4.predict(X_tr_4)),f1_score(y_test,model_4.predict(X_te_4))])\n",
    "t.add_row(['XGBOOST+TFIDF(n-gram)',f1_score(y_train,model_5.predict(X_tr_5)),f1_score(y_test,model_5.predict(X_te_5))])\n",
    "t.add_row(['XGBOOST+Word2Vec',f1_score(y_train,model_6.predict(X_tr_6)),f1_score(y_test,model_6.predict(X_te_6))])\n",
    "print(t)"
   ]
  },
  {
   "cell_type": "markdown",
   "id": "be1a4240",
   "metadata": {},
   "source": [
    "### Recommendation system "
   ]
  },
  {
   "cell_type": "code",
   "execution_count": 39,
   "id": "94484e6d",
   "metadata": {},
   "outputs": [],
   "source": [
    "def userful_count(data,feature):\n",
    "    '''this function takes dataframe and feature as input and normalize the given feature'''\n",
    "    \n",
    "    max_value = data[feature].max()\n",
    "    min_value = data[feature].min()\n",
    "    data[feature] = (data[feature] - min_value) / (max_value - min_value)\n",
    "    return data "
   ]
  },
  {
   "cell_type": "code",
   "execution_count": 41,
   "id": "b929a2c5",
   "metadata": {},
   "outputs": [
    {
     "data": {
      "text/html": [
       "<div>\n",
       "<style scoped>\n",
       "    .dataframe tbody tr th:only-of-type {\n",
       "        vertical-align: middle;\n",
       "    }\n",
       "\n",
       "    .dataframe tbody tr th {\n",
       "        vertical-align: top;\n",
       "    }\n",
       "\n",
       "    .dataframe thead th {\n",
       "        text-align: right;\n",
       "    }\n",
       "</style>\n",
       "<table border=\"1\" class=\"dataframe\">\n",
       "  <thead>\n",
       "    <tr style=\"text-align: right;\">\n",
       "      <th></th>\n",
       "      <th>drugName</th>\n",
       "      <th>condition</th>\n",
       "      <th>usefulCount</th>\n",
       "      <th>cleaned_review</th>\n",
       "      <th>sentiment_score</th>\n",
       "      <th>sentiment_score_clean</th>\n",
       "      <th>year</th>\n",
       "      <th>word_count</th>\n",
       "      <th>unique_word_count</th>\n",
       "      <th>char_length</th>\n",
       "      <th>...</th>\n",
       "      <th>16</th>\n",
       "      <th>17</th>\n",
       "      <th>18</th>\n",
       "      <th>19</th>\n",
       "      <th>model2</th>\n",
       "      <th>model3</th>\n",
       "      <th>model4</th>\n",
       "      <th>model5</th>\n",
       "      <th>model6</th>\n",
       "      <th>rec_score</th>\n",
       "    </tr>\n",
       "  </thead>\n",
       "  <tbody>\n",
       "    <tr>\n",
       "      <th>133439</th>\n",
       "      <td>coreg</td>\n",
       "      <td>heart failure</td>\n",
       "      <td>0.024787</td>\n",
       "      <td>heart attack june day hospit doctor put coreg ...</td>\n",
       "      <td>0.6808</td>\n",
       "      <td>0.7964</td>\n",
       "      <td>2010</td>\n",
       "      <td>21</td>\n",
       "      <td>19</td>\n",
       "      <td>119</td>\n",
       "      <td>...</td>\n",
       "      <td>0.005698</td>\n",
       "      <td>0.440997</td>\n",
       "      <td>0.011428</td>\n",
       "      <td>0.081610</td>\n",
       "      <td>1</td>\n",
       "      <td>1</td>\n",
       "      <td>1</td>\n",
       "      <td>1</td>\n",
       "      <td>1</td>\n",
       "      <td>0.123935</td>\n",
       "    </tr>\n",
       "    <tr>\n",
       "      <th>136010</th>\n",
       "      <td>rizatriptan</td>\n",
       "      <td>migraine</td>\n",
       "      <td>0.013168</td>\n",
       "      <td>suffer migrain sinc year old maxalt migrain me...</td>\n",
       "      <td>-0.7974</td>\n",
       "      <td>-0.7717</td>\n",
       "      <td>2015</td>\n",
       "      <td>40</td>\n",
       "      <td>30</td>\n",
       "      <td>243</td>\n",
       "      <td>...</td>\n",
       "      <td>0.004397</td>\n",
       "      <td>0.391026</td>\n",
       "      <td>0.008818</td>\n",
       "      <td>0.101036</td>\n",
       "      <td>1</td>\n",
       "      <td>1</td>\n",
       "      <td>1</td>\n",
       "      <td>1</td>\n",
       "      <td>1</td>\n",
       "      <td>0.065840</td>\n",
       "    </tr>\n",
       "    <tr>\n",
       "      <th>63258</th>\n",
       "      <td>restasis</td>\n",
       "      <td>keratoconjunctivitis sicca</td>\n",
       "      <td>0.027885</td>\n",
       "      <td>yes burn get medic actual solut bandaid proble...</td>\n",
       "      <td>-0.1101</td>\n",
       "      <td>-0.7351</td>\n",
       "      <td>2016</td>\n",
       "      <td>68</td>\n",
       "      <td>51</td>\n",
       "      <td>394</td>\n",
       "      <td>...</td>\n",
       "      <td>0.003992</td>\n",
       "      <td>0.355007</td>\n",
       "      <td>0.008006</td>\n",
       "      <td>0.103246</td>\n",
       "      <td>1</td>\n",
       "      <td>1</td>\n",
       "      <td>1</td>\n",
       "      <td>1</td>\n",
       "      <td>1</td>\n",
       "      <td>0.139427</td>\n",
       "    </tr>\n",
       "    <tr>\n",
       "      <th>74865</th>\n",
       "      <td>sertraline</td>\n",
       "      <td>social anxiety disorde</td>\n",
       "      <td>0.009295</td>\n",
       "      <td>think end start take pure desper use horribl f...</td>\n",
       "      <td>-0.9041</td>\n",
       "      <td>-0.0258</td>\n",
       "      <td>2015</td>\n",
       "      <td>70</td>\n",
       "      <td>58</td>\n",
       "      <td>421</td>\n",
       "      <td>...</td>\n",
       "      <td>0.003655</td>\n",
       "      <td>0.430528</td>\n",
       "      <td>0.049516</td>\n",
       "      <td>0.073439</td>\n",
       "      <td>1</td>\n",
       "      <td>1</td>\n",
       "      <td>1</td>\n",
       "      <td>1</td>\n",
       "      <td>1</td>\n",
       "      <td>0.046476</td>\n",
       "    </tr>\n",
       "    <tr>\n",
       "      <th>2537</th>\n",
       "      <td>amphetamine / dextroamphetamine</td>\n",
       "      <td>adhd</td>\n",
       "      <td>0.007746</td>\n",
       "      <td>prescrib mg st day could liter feel releas med...</td>\n",
       "      <td>-0.9639</td>\n",
       "      <td>-0.3887</td>\n",
       "      <td>2017</td>\n",
       "      <td>77</td>\n",
       "      <td>68</td>\n",
       "      <td>470</td>\n",
       "      <td>...</td>\n",
       "      <td>0.003371</td>\n",
       "      <td>0.375103</td>\n",
       "      <td>0.016481</td>\n",
       "      <td>0.087180</td>\n",
       "      <td>0</td>\n",
       "      <td>0</td>\n",
       "      <td>0</td>\n",
       "      <td>0</td>\n",
       "      <td>0</td>\n",
       "      <td>0.000000</td>\n",
       "    </tr>\n",
       "  </tbody>\n",
       "</table>\n",
       "<p>5 rows × 39 columns</p>\n",
       "</div>"
      ],
      "text/plain": [
       "                               drugName                   condition  \\\n",
       "133439                            coreg               heart failure   \n",
       "136010                      rizatriptan                    migraine   \n",
       "63258                          restasis  keratoconjunctivitis sicca   \n",
       "74865                        sertraline      social anxiety disorde   \n",
       "2537    amphetamine / dextroamphetamine                        adhd   \n",
       "\n",
       "        usefulCount                                     cleaned_review  \\\n",
       "133439     0.024787  heart attack june day hospit doctor put coreg ...   \n",
       "136010     0.013168  suffer migrain sinc year old maxalt migrain me...   \n",
       "63258      0.027885  yes burn get medic actual solut bandaid proble...   \n",
       "74865      0.009295  think end start take pure desper use horribl f...   \n",
       "2537       0.007746  prescrib mg st day could liter feel releas med...   \n",
       "\n",
       "        sentiment_score  sentiment_score_clean  year  word_count  \\\n",
       "133439           0.6808                 0.7964  2010          21   \n",
       "136010          -0.7974                -0.7717  2015          40   \n",
       "63258           -0.1101                -0.7351  2016          68   \n",
       "74865           -0.9041                -0.0258  2015          70   \n",
       "2537            -0.9639                -0.3887  2017          77   \n",
       "\n",
       "        unique_word_count  char_length  ...        16        17        18  \\\n",
       "133439                 19          119  ...  0.005698  0.440997  0.011428   \n",
       "136010                 30          243  ...  0.004397  0.391026  0.008818   \n",
       "63258                  51          394  ...  0.003992  0.355007  0.008006   \n",
       "74865                  58          421  ...  0.003655  0.430528  0.049516   \n",
       "2537                   68          470  ...  0.003371  0.375103  0.016481   \n",
       "\n",
       "              19  model2  model3  model4  model5  model6  rec_score  \n",
       "133439  0.081610       1       1       1       1       1   0.123935  \n",
       "136010  0.101036       1       1       1       1       1   0.065840  \n",
       "63258   0.103246       1       1       1       1       1   0.139427  \n",
       "74865   0.073439       1       1       1       1       1   0.046476  \n",
       "2537    0.087180       0       0       0       0       0   0.000000  \n",
       "\n",
       "[5 rows x 39 columns]"
      ]
     },
     "execution_count": 41,
     "metadata": {},
     "output_type": "execute_result"
    }
   ],
   "source": [
    "# Each model predictions are stored as one column and recommendation score is calculated by adding predictions \n",
    "# of 5 models multiplied by its normalized useful count\n",
    "\n",
    "X_test['model2'] = model_2.predict(X_te_2)\n",
    "X_test['model3'] = model_3.predict(X_te_3)\n",
    "X_test['model4'] = model_4.predict(X_te_4)\n",
    "X_test['model5'] = model_5.predict(X_te_5)\n",
    "X_test['model6'] = model_6.predict(X_te_6)\n",
    "\n",
    "X_test =  userful_count(X_test,'usefulCount') \n",
    "#X_test['usefulCount'] = X_test['usefulCount']/X_test['user_size']\n",
    "\n",
    "X_test['rec_score'] = (X_test['model2']+X_test['model3']+X_test['model4']+X_test['model5']+X_test['model6'])*X_test['usefulCount']\n",
    "\n",
    "X_test.head()"
   ]
  },
  {
   "cell_type": "code",
   "execution_count": 50,
   "id": "0b18949c",
   "metadata": {},
   "outputs": [],
   "source": [
    "#X_test.to_csv('validation_data.csv',index=False)"
   ]
  },
  {
   "cell_type": "code",
   "execution_count": 44,
   "id": "6a0cae43",
   "metadata": {},
   "outputs": [],
   "source": [
    "# grouping the datafrom with respect to condition and drugname. \n",
    "\n",
    "df = X_test.groupby(['condition','drugName']).agg({'rec_score':['sum']})\n"
   ]
  },
  {
   "cell_type": "code",
   "execution_count": 45,
   "id": "e56b5c3f",
   "metadata": {
    "scrolled": true
   },
   "outputs": [
    {
     "data": {
      "text/html": [
       "<div>\n",
       "<style scoped>\n",
       "    .dataframe tbody tr th:only-of-type {\n",
       "        vertical-align: middle;\n",
       "    }\n",
       "\n",
       "    .dataframe tbody tr th {\n",
       "        vertical-align: top;\n",
       "    }\n",
       "\n",
       "    .dataframe thead tr th {\n",
       "        text-align: left;\n",
       "    }\n",
       "\n",
       "    .dataframe thead tr:last-of-type th {\n",
       "        text-align: right;\n",
       "    }\n",
       "</style>\n",
       "<table border=\"1\" class=\"dataframe\">\n",
       "  <thead>\n",
       "    <tr>\n",
       "      <th></th>\n",
       "      <th></th>\n",
       "      <th>rec_score</th>\n",
       "    </tr>\n",
       "    <tr>\n",
       "      <th></th>\n",
       "      <th></th>\n",
       "      <th>sum</th>\n",
       "    </tr>\n",
       "    <tr>\n",
       "      <th>condition</th>\n",
       "      <th>drugName</th>\n",
       "      <th></th>\n",
       "    </tr>\n",
       "  </thead>\n",
       "  <tbody>\n",
       "    <tr>\n",
       "      <th>yellow fever prophylaxis</th>\n",
       "      <th>yellow fever vaccine</th>\n",
       "      <td>0.001549</td>\n",
       "    </tr>\n",
       "    <tr>\n",
       "      <th rowspan=\"4\" valign=\"top\">zen shoulde</th>\n",
       "      <th>aleve</th>\n",
       "      <td>0.009295</td>\n",
       "    </tr>\n",
       "    <tr>\n",
       "      <th>diclofenac</th>\n",
       "      <td>0.127808</td>\n",
       "    </tr>\n",
       "    <tr>\n",
       "      <th>indomethacin</th>\n",
       "      <td>0.046476</td>\n",
       "    </tr>\n",
       "    <tr>\n",
       "      <th>nabumetone</th>\n",
       "      <td>0.013943</td>\n",
       "    </tr>\n",
       "  </tbody>\n",
       "</table>\n",
       "</div>"
      ],
      "text/plain": [
       "                                              rec_score\n",
       "                                                    sum\n",
       "condition                drugName                      \n",
       "yellow fever prophylaxis yellow fever vaccine  0.001549\n",
       "zen shoulde              aleve                 0.009295\n",
       "                         diclofenac            0.127808\n",
       "                         indomethacin          0.046476\n",
       "                         nabumetone            0.013943"
      ]
     },
     "execution_count": 45,
     "metadata": {},
     "output_type": "execute_result"
    }
   ],
   "source": [
    "df.tail()"
   ]
  },
  {
   "cell_type": "markdown",
   "id": "4942e142",
   "metadata": {},
   "source": [
    "<b> Validation for one condition </b>"
   ]
  },
  {
   "cell_type": "code",
   "execution_count": 49,
   "id": "045afec3",
   "metadata": {},
   "outputs": [
    {
     "data": {
      "text/html": [
       "<div>\n",
       "<style scoped>\n",
       "    .dataframe tbody tr th:only-of-type {\n",
       "        vertical-align: middle;\n",
       "    }\n",
       "\n",
       "    .dataframe tbody tr th {\n",
       "        vertical-align: top;\n",
       "    }\n",
       "\n",
       "    .dataframe thead th {\n",
       "        text-align: right;\n",
       "    }\n",
       "</style>\n",
       "<table border=\"1\" class=\"dataframe\">\n",
       "  <thead>\n",
       "    <tr style=\"text-align: right;\">\n",
       "      <th></th>\n",
       "      <th>drugName</th>\n",
       "      <th>condition</th>\n",
       "      <th>usefulCount</th>\n",
       "      <th>cleaned_review</th>\n",
       "      <th>sentiment_score</th>\n",
       "      <th>sentiment_score_clean</th>\n",
       "      <th>year</th>\n",
       "      <th>word_count</th>\n",
       "      <th>unique_word_count</th>\n",
       "      <th>char_length</th>\n",
       "      <th>...</th>\n",
       "      <th>16</th>\n",
       "      <th>17</th>\n",
       "      <th>18</th>\n",
       "      <th>19</th>\n",
       "      <th>model2</th>\n",
       "      <th>model3</th>\n",
       "      <th>model4</th>\n",
       "      <th>model5</th>\n",
       "      <th>model6</th>\n",
       "      <th>rec_score</th>\n",
       "    </tr>\n",
       "  </thead>\n",
       "  <tbody>\n",
       "    <tr>\n",
       "      <th>65932</th>\n",
       "      <td>diclofenac</td>\n",
       "      <td>zen shoulde</td>\n",
       "      <td>0.025562</td>\n",
       "      <td>great help</td>\n",
       "      <td>0.7783</td>\n",
       "      <td>0.7783</td>\n",
       "      <td>2009</td>\n",
       "      <td>2</td>\n",
       "      <td>2</td>\n",
       "      <td>11</td>\n",
       "      <td>...</td>\n",
       "      <td>0.007732</td>\n",
       "      <td>0.419924</td>\n",
       "      <td>0.015507</td>\n",
       "      <td>0.088432</td>\n",
       "      <td>1</td>\n",
       "      <td>1</td>\n",
       "      <td>1</td>\n",
       "      <td>1</td>\n",
       "      <td>1</td>\n",
       "      <td>0.127808</td>\n",
       "    </tr>\n",
       "    <tr>\n",
       "      <th>78663</th>\n",
       "      <td>indomethacin</td>\n",
       "      <td>zen shoulde</td>\n",
       "      <td>0.009295</td>\n",
       "      <td>work</td>\n",
       "      <td>0.0000</td>\n",
       "      <td>0.0000</td>\n",
       "      <td>2011</td>\n",
       "      <td>1</td>\n",
       "      <td>1</td>\n",
       "      <td>5</td>\n",
       "      <td>...</td>\n",
       "      <td>0.007909</td>\n",
       "      <td>0.406685</td>\n",
       "      <td>0.015861</td>\n",
       "      <td>0.090450</td>\n",
       "      <td>1</td>\n",
       "      <td>1</td>\n",
       "      <td>1</td>\n",
       "      <td>1</td>\n",
       "      <td>1</td>\n",
       "      <td>0.046476</td>\n",
       "    </tr>\n",
       "    <tr>\n",
       "      <th>99792</th>\n",
       "      <td>nabumetone</td>\n",
       "      <td>zen shoulde</td>\n",
       "      <td>0.004648</td>\n",
       "      <td>side effect experienc medic reliev shoulder pain</td>\n",
       "      <td>-0.1779</td>\n",
       "      <td>-0.5106</td>\n",
       "      <td>2017</td>\n",
       "      <td>7</td>\n",
       "      <td>7</td>\n",
       "      <td>49</td>\n",
       "      <td>...</td>\n",
       "      <td>0.007099</td>\n",
       "      <td>0.426486</td>\n",
       "      <td>0.014237</td>\n",
       "      <td>0.081186</td>\n",
       "      <td>1</td>\n",
       "      <td>1</td>\n",
       "      <td>0</td>\n",
       "      <td>1</td>\n",
       "      <td>0</td>\n",
       "      <td>0.013943</td>\n",
       "    </tr>\n",
       "    <tr>\n",
       "      <th>169409</th>\n",
       "      <td>aleve</td>\n",
       "      <td>zen shoulde</td>\n",
       "      <td>0.004648</td>\n",
       "      <td>littl relief finish pt year still great due is...</td>\n",
       "      <td>0.8976</td>\n",
       "      <td>0.8020</td>\n",
       "      <td>2015</td>\n",
       "      <td>19</td>\n",
       "      <td>18</td>\n",
       "      <td>121</td>\n",
       "      <td>...</td>\n",
       "      <td>0.005994</td>\n",
       "      <td>0.479188</td>\n",
       "      <td>0.012021</td>\n",
       "      <td>0.103143</td>\n",
       "      <td>1</td>\n",
       "      <td>1</td>\n",
       "      <td>0</td>\n",
       "      <td>0</td>\n",
       "      <td>0</td>\n",
       "      <td>0.009295</td>\n",
       "    </tr>\n",
       "    <tr>\n",
       "      <th>185560</th>\n",
       "      <td>diclofenac</td>\n",
       "      <td>zen shoulde</td>\n",
       "      <td>0.017041</td>\n",
       "      <td>medic somewhat help stiff pain still present s...</td>\n",
       "      <td>-0.7962</td>\n",
       "      <td>-0.4989</td>\n",
       "      <td>2014</td>\n",
       "      <td>15</td>\n",
       "      <td>14</td>\n",
       "      <td>94</td>\n",
       "      <td>...</td>\n",
       "      <td>0.006100</td>\n",
       "      <td>0.401652</td>\n",
       "      <td>0.012233</td>\n",
       "      <td>0.069760</td>\n",
       "      <td>0</td>\n",
       "      <td>0</td>\n",
       "      <td>0</td>\n",
       "      <td>0</td>\n",
       "      <td>0</td>\n",
       "      <td>0.000000</td>\n",
       "    </tr>\n",
       "  </tbody>\n",
       "</table>\n",
       "<p>5 rows × 39 columns</p>\n",
       "</div>"
      ],
      "text/plain": [
       "            drugName    condition  usefulCount  \\\n",
       "65932     diclofenac  zen shoulde     0.025562   \n",
       "78663   indomethacin  zen shoulde     0.009295   \n",
       "99792     nabumetone  zen shoulde     0.004648   \n",
       "169409         aleve  zen shoulde     0.004648   \n",
       "185560    diclofenac  zen shoulde     0.017041   \n",
       "\n",
       "                                           cleaned_review  sentiment_score  \\\n",
       "65932                                         great help            0.7783   \n",
       "78663                                               work            0.0000   \n",
       "99792   side effect experienc medic reliev shoulder pain           -0.1779   \n",
       "169409  littl relief finish pt year still great due is...           0.8976   \n",
       "185560  medic somewhat help stiff pain still present s...          -0.7962   \n",
       "\n",
       "        sentiment_score_clean  year  word_count  unique_word_count  \\\n",
       "65932                  0.7783  2009           2                  2   \n",
       "78663                  0.0000  2011           1                  1   \n",
       "99792                 -0.5106  2017           7                  7   \n",
       "169409                 0.8020  2015          19                 18   \n",
       "185560                -0.4989  2014          15                 14   \n",
       "\n",
       "        char_length  ...        16        17        18        19  model2  \\\n",
       "65932            11  ...  0.007732  0.419924  0.015507  0.088432       1   \n",
       "78663             5  ...  0.007909  0.406685  0.015861  0.090450       1   \n",
       "99792            49  ...  0.007099  0.426486  0.014237  0.081186       1   \n",
       "169409          121  ...  0.005994  0.479188  0.012021  0.103143       1   \n",
       "185560           94  ...  0.006100  0.401652  0.012233  0.069760       0   \n",
       "\n",
       "        model3  model4  model5  model6  rec_score  \n",
       "65932        1       1       1       1   0.127808  \n",
       "78663        1       1       1       1   0.046476  \n",
       "99792        1       0       1       0   0.013943  \n",
       "169409       1       0       0       0   0.009295  \n",
       "185560       0       0       0       0   0.000000  \n",
       "\n",
       "[5 rows x 39 columns]"
      ]
     },
     "execution_count": 49,
     "metadata": {},
     "output_type": "execute_result"
    }
   ],
   "source": [
    "X_test[X_test['condition']=='zen shoulde'].sort_values(by=['rec_score'],ascending=False)"
   ]
  },
  {
   "cell_type": "markdown",
   "id": "c003ebe0",
   "metadata": {},
   "source": [
    "<b> Observations:</b>\n",
    "- The drug named 'diclofenac' for condition 'zen shoulde' is present two times. Based on the 5 models prediction and useful count, the recommendation score is calculated. The final score of each drug is calculated by addition of same drugs score for a given condition. Hence for this condition,'diclofenac' this drug is recommended with high score"
   ]
  },
  {
   "cell_type": "markdown",
   "id": "fb40559f",
   "metadata": {},
   "source": [
    "- Based on some observations like for condition 'birth control' we have total of 11563 entries for different drugs used. And for each drug for ex- 'etonogestrel(1309)','ethinyl estradiol / norethindrone(909)','levonorgestrel(850)' we have many entries. By aggreating the rec_score using 'mean' the score for these highly used drugs gets lowered due to which the lowest rated/used drugs are recommended after aggregation. \n",
    "- Hence aggregating using 'sum' is used in which scores of same drugs are added together. "
   ]
  },
  {
   "cell_type": "code",
   "execution_count": 75,
   "id": "4287ba1e",
   "metadata": {},
   "outputs": [],
   "source": [
    "def recommend(condition):\n",
    "    '''this function takes the given condition as input and returns the top drugs based on highest rec scores'''\n",
    "    data = pd.read_csv('validation_data.csv')\n",
    "    select = data[data['condition']==condition]\n",
    "    drug_count = select['drugName'].nunique()\n",
    "    select['rec_score'] = select['rec_score']/drug_count\n",
    "    group_drug = select.groupby(['drugName']).agg({'rec_score':['sum']})\n",
    "    group_drug = group_drug[('rec_score', 'sum')].sort_values(ascending=False)\n",
    "    drug_score = dict(group_drug)\n",
    "    if len(drug_score)>5:\n",
    "        print('Top 5 Drugs for the condition : {0}'.format(condition.upper()))\n",
    "        for i in list(drug_score.keys())[0:5]:\n",
    "            print('->',i)        \n",
    "            \n",
    "    else:\n",
    "        print('Top  Drugs for the condition : {0}'.format(condition.upper()))\n",
    "        for i in drug_score.keys():\n",
    "            print('->',i)\n",
    "    "
   ]
  },
  {
   "cell_type": "code",
   "execution_count": 76,
   "id": "d6def0f7",
   "metadata": {},
   "outputs": [
    {
     "name": "stdout",
     "output_type": "stream",
     "text": [
      "Top 5 Drugs for the condition : BIRTH CONTROL\n",
      "-> etonogestrel\n",
      "-> ethinyl estradiol / norethindrone\n",
      "-> levonorgestrel\n",
      "-> ethinyl estradiol / norgestimate\n",
      "-> mirena\n"
     ]
    }
   ],
   "source": [
    "recommend('birth control')"
   ]
  },
  {
   "cell_type": "code",
   "execution_count": 77,
   "id": "483b8186",
   "metadata": {},
   "outputs": [
    {
     "name": "stdout",
     "output_type": "stream",
     "text": [
      "Top  Drugs for the condition : ZEN SHOULDE\n",
      "-> diclofenac\n",
      "-> indomethacin\n",
      "-> nabumetone\n",
      "-> aleve\n"
     ]
    }
   ],
   "source": [
    "recommend('zen shoulde')"
   ]
  },
  {
   "cell_type": "code",
   "execution_count": null,
   "id": "13479214",
   "metadata": {},
   "outputs": [],
   "source": []
  }
 ],
 "metadata": {
  "kernelspec": {
   "display_name": "Python 3 (ipykernel)",
   "language": "python",
   "name": "python3"
  },
  "language_info": {
   "codemirror_mode": {
    "name": "ipython",
    "version": 3
   },
   "file_extension": ".py",
   "mimetype": "text/x-python",
   "name": "python",
   "nbconvert_exporter": "python",
   "pygments_lexer": "ipython3",
   "version": "3.9.7"
  }
 },
 "nbformat": 4,
 "nbformat_minor": 5
}
